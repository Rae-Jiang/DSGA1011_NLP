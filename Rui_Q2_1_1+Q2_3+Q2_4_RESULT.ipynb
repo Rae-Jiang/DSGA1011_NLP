{
  "nbformat": 4,
  "nbformat_minor": 0,
  "metadata": {
    "kernelspec": {
      "name": "python3",
      "display_name": "Python 3"
    },
    "language_info": {
      "codemirror_mode": {
        "name": "ipython",
        "version": 3
      },
      "file_extension": ".py",
      "mimetype": "text/x-python",
      "name": "python",
      "nbconvert_exporter": "python",
      "pygments_lexer": "ipython3",
      "version": "3.7.1"
    },
    "colab": {
      "name": "Rui_Q2.1.1+Q2.3+Q2.4_RESULT.ipynb",
      "provenance": [],
      "collapsed_sections": [],
      "include_colab_link": true
    },
    "accelerator": "GPU"
  },
  "cells": [
    {
      "cell_type": "markdown",
      "metadata": {
        "id": "view-in-github",
        "colab_type": "text"
      },
      "source": [
        "<a href=\"https://colab.research.google.com/github/Rae-Jiang/DSGA1011_NLP/blob/master/Rui_Q2_1_1%2BQ2_3%2BQ2_4_RESULT.ipynb\" target=\"_parent\"><img src=\"https://colab.research.google.com/assets/colab-badge.svg\" alt=\"Open In Colab\"/></a>"
      ]
    },
    {
      "cell_type": "markdown",
      "metadata": {
        "id": "OhzMpzQvDfq-",
        "colab_type": "text"
      },
      "source": [
        "# DS-GA 1011 Homework 2\n",
        "## N-Gram and Neural Language Modeling"
      ]
    },
    {
      "cell_type": "code",
      "metadata": {
        "id": "sxQfThHknDB4",
        "colab_type": "code",
        "colab": {}
      },
      "source": [
        "import sys\n",
        "\n",
        "try:\n",
        "    import jsonlines\n",
        "except ImportError:\n",
        "    print('Installing the package, RESTART THIS CELL')\n",
        "    !{sys.executable} -m pip install jsonlines\n",
        "  \n",
        "try:\n",
        "    from tqdm import tqdm\n",
        "except ImportError:\n",
        "    print('Installing the package, RESTART THIS CELL')\n",
        "    !{sys.executable} -m pip install tqdm"
      ],
      "execution_count": 0,
      "outputs": []
    },
    {
      "cell_type": "code",
      "metadata": {
        "id": "ZsO4H9MIDfq_",
        "colab_type": "code",
        "colab": {}
      },
      "source": [
        "import os\n",
        "import json\n",
        "import jsonlines\n",
        "import numpy as np\n",
        "from tqdm import tqdm\n",
        "from collections import defaultdict"
      ],
      "execution_count": 0,
      "outputs": []
    },
    {
      "cell_type": "code",
      "metadata": {
        "id": "AYhzi9CC3yqJ",
        "colab_type": "code",
        "outputId": "207cd916-adcc-4cd9-ca11-08ba7806eb4f",
        "colab": {
          "base_uri": "https://localhost:8080/",
          "height": 34
        }
      },
      "source": [
        "from google.colab import drive\n",
        "drive.mount('/content/drive')\n",
        "basedir = '/content/drive/My Drive/1011 NLP/HW2/Playground_Rui'\n",
        "# data_folder_path = os.path.join(basedir, 'data')\n",
        "model_folder_path = os.path.join(basedir, 'model')"
      ],
      "execution_count": 0,
      "outputs": [
        {
          "output_type": "stream",
          "text": [
            "Mounted at /content/drive\n"
          ],
          "name": "stdout"
        }
      ]
    },
    {
      "cell_type": "code",
      "metadata": {
        "id": "j73WKUf6DfrF",
        "colab_type": "code",
        "colab": {}
      },
      "source": [
        "def load_wikitext(filename='wikitext2-sentencized.json'):\n",
        "    if not os.path.exists(filename):\n",
        "        !wget \"https://nyu.box.com/shared/static/9kb7l7ci30hb6uahhbssjlq0kctr5ii4.json\" -O $filename\n",
        "    \n",
        "    datasets = json.load(open(filename, 'r'))\n",
        "    for name in datasets:\n",
        "        datasets[name] = [x.split() for x in datasets[name]]\n",
        "    vocab = list(set([t for ts in datasets['train'] for t in ts]))      \n",
        "    print(\"Vocab size: %d\" % (len(vocab)))\n",
        "    return datasets, vocab\n",
        "\n",
        "def perplexity(model, sequences):\n",
        "    n_total = 0\n",
        "    logp_total = 0\n",
        "    for sequence in sequences:\n",
        "        logp_total += model.sequence_logp(sequence)\n",
        "        n_total += len(sequence) + 1  \n",
        "    ppl = 2 ** (- (1.0 / n_total) * logp_total)  \n",
        "    return ppl"
      ],
      "execution_count": 0,
      "outputs": []
    },
    {
      "cell_type": "code",
      "metadata": {
        "id": "0Ayhuc3-DfrJ",
        "colab_type": "code",
        "outputId": "47960c74-83c7-4e55-837b-4c542819319f",
        "colab": {
          "base_uri": "https://localhost:8080/",
          "height": 479
        }
      },
      "source": [
        "datasets, vocab = load_wikitext()\n",
        "\n",
        "# delta = 0.0005\n",
        "# for n in [2, 3, 4]:\n",
        "#     lm = NGramAdditive(n=n, delta=delta, vsize=len(vocab)+1)  # +1 is for <eos>\n",
        "#     lm.estimate(datasets['train'])\n",
        "\n",
        "#     print(\"Baseline (Additive smoothing, n=%d, delta=%.4f)) Train Perplexity: %.3f\" % (n, delta, perplexity(lm, datasets['train'])))\n",
        "#     print(\"Baseline (Additive smoothing, n=%d, delta=%.4f)) Valid Perplexity: %.3f\" % (n, delta, perplexity(lm, datasets['valid'])))"
      ],
      "execution_count": 0,
      "outputs": [
        {
          "output_type": "stream",
          "text": [
            "--2019-10-07 00:21:48--  https://nyu.box.com/shared/static/9kb7l7ci30hb6uahhbssjlq0kctr5ii4.json\n",
            "Resolving nyu.box.com (nyu.box.com)... 103.116.4.197\n",
            "Connecting to nyu.box.com (nyu.box.com)|103.116.4.197|:443... connected.\n",
            "HTTP request sent, awaiting response... 301 Moved Permanently\n",
            "Location: /public/static/9kb7l7ci30hb6uahhbssjlq0kctr5ii4.json [following]\n",
            "--2019-10-07 00:21:48--  https://nyu.box.com/public/static/9kb7l7ci30hb6uahhbssjlq0kctr5ii4.json\n",
            "Reusing existing connection to nyu.box.com:443.\n",
            "HTTP request sent, awaiting response... 301 Moved Permanently\n",
            "Location: https://nyu.app.box.com/public/static/9kb7l7ci30hb6uahhbssjlq0kctr5ii4.json [following]\n",
            "--2019-10-07 00:21:48--  https://nyu.app.box.com/public/static/9kb7l7ci30hb6uahhbssjlq0kctr5ii4.json\n",
            "Resolving nyu.app.box.com (nyu.app.box.com)... 103.116.4.199\n",
            "Connecting to nyu.app.box.com (nyu.app.box.com)|103.116.4.199|:443... connected.\n",
            "HTTP request sent, awaiting response... 302 Found\n",
            "Location: https://public.boxcloud.com/d/1/b1!tLdrRqaJe6HDrmjd_xTKdlScFg8GT_u3QEYBQLOeA2zrhpeIODETJAgCteMfo-clukndliLR6HyJVywzpCV-wP1VJ0xT0T__vC6YjrHmI_COMPa5zuwL0ELE7K_SPqIiu7yq1thXecFlAgqyhO45oYblLRczEL1Yzmsp4jPmNctqs6YcibyQPs9R-cofKqE3wt7RGMzF7pxkhMnpnnIYkh4Mr-fRI4f6XuIn38oWAHnTiiwBTb5INc4mWIK1A6pWFCaaCz0hPgR3jxbP4zosR-LnbsFkT-vWsDAqX6hXgk8iOLF-ui-TcWyxzhnssdCOmcGxemnjrGL4mVrtODJWt9-8GoP6-nrEzPq5mkfXCbXZiMWasp84xTTcS0bF6fj6oX1EqL-K7SbJH6PfVEsqCdZmeGhgSJjyP7iZjCButoiDm9waiFPJaDcBtgEsHQbOex-kTr1k6OwoWnxMb9C-AScWmbB1V2cVemXla8t1duE6AQkKg1f2m1d_1bOWZx4PXENDJ_IXizlDp9WqUr8GJ2bVPb8OeHtb6GspWPuv1Kqw4CHrc10xQo3DLI3BjbXNNzl-QdUKE3pBDTl_NABRkPpHsDmGhBlJRJLu5JddSZ1SWCEmCV_rt8xbnhOfUGgCYvJ5jsQYXsXiVdbqFgdgXeGiwy271k3NpBOb2grXmQgs3xud8IKK8N6ugAExPER89BISAeoA5FIDNkwMg-sdb4oRDgNxbFP6CqmqFVWBUTFhyNhFMyYax7TPjpY9ideGpyg4nlWw4x3KYkc1SBsUdv_6g5yuR3rOVv7xgGpAqczfzdj5rSBC3YG-DfHRytJIuc1r6nVSSqFBgZlGrVuLwgjIo_HT2oa5YWP8ZrMt3SJb1dHy0tYhMCc7I-803g1X2WXwab5D5tIM8f0ckqSyAzKhwc_G7ys-WAAf1U_ghE_BQ39-NRTDhoBx7v9lb6bLbZM4Vo3CEx-ZZIXJ5ZHQEr16VXFEfjqwKF6-gf9sUI7aWX4TQ8RJsAkWAK2379vXMrnf2OcxfaQGBudIa9M0YOgOtPjnh4kC9kA2S_a5Fnz_QhafDbynpTjHgNdI381ktOpwZvvZDfaurWXHXLow5hbLqNL3oD8cb5fk1tx8iU9u7UX9A5l2ycwXBLdZjRu3ATjVHU7pK4Kl955AbCkm5xQcbCtzCmntvJDu9qAPPYjbItzGI9f-0-G0T44UUhmbPD-tlfLO6X1t597f-3Ejq1Dq9Eep9_88KTfnPG5nvql9pPFtRJ_C4L2wxUXJSut4TwULac1KB1fBtpapKKci0kNCZDX6E8rmrGZ-cV-wOFMlxPp91XNGw4Kn4TkjmN98UVpiObzhIqnE2S2DWhuOz1FTuNDFtIaoVvqqS04ThT2niJ_qsUcB9JPK76gBdEsvpYoU44mDfC4S/download [following]\n",
            "--2019-10-07 00:21:49--  https://public.boxcloud.com/d/1/b1!tLdrRqaJe6HDrmjd_xTKdlScFg8GT_u3QEYBQLOeA2zrhpeIODETJAgCteMfo-clukndliLR6HyJVywzpCV-wP1VJ0xT0T__vC6YjrHmI_COMPa5zuwL0ELE7K_SPqIiu7yq1thXecFlAgqyhO45oYblLRczEL1Yzmsp4jPmNctqs6YcibyQPs9R-cofKqE3wt7RGMzF7pxkhMnpnnIYkh4Mr-fRI4f6XuIn38oWAHnTiiwBTb5INc4mWIK1A6pWFCaaCz0hPgR3jxbP4zosR-LnbsFkT-vWsDAqX6hXgk8iOLF-ui-TcWyxzhnssdCOmcGxemnjrGL4mVrtODJWt9-8GoP6-nrEzPq5mkfXCbXZiMWasp84xTTcS0bF6fj6oX1EqL-K7SbJH6PfVEsqCdZmeGhgSJjyP7iZjCButoiDm9waiFPJaDcBtgEsHQbOex-kTr1k6OwoWnxMb9C-AScWmbB1V2cVemXla8t1duE6AQkKg1f2m1d_1bOWZx4PXENDJ_IXizlDp9WqUr8GJ2bVPb8OeHtb6GspWPuv1Kqw4CHrc10xQo3DLI3BjbXNNzl-QdUKE3pBDTl_NABRkPpHsDmGhBlJRJLu5JddSZ1SWCEmCV_rt8xbnhOfUGgCYvJ5jsQYXsXiVdbqFgdgXeGiwy271k3NpBOb2grXmQgs3xud8IKK8N6ugAExPER89BISAeoA5FIDNkwMg-sdb4oRDgNxbFP6CqmqFVWBUTFhyNhFMyYax7TPjpY9ideGpyg4nlWw4x3KYkc1SBsUdv_6g5yuR3rOVv7xgGpAqczfzdj5rSBC3YG-DfHRytJIuc1r6nVSSqFBgZlGrVuLwgjIo_HT2oa5YWP8ZrMt3SJb1dHy0tYhMCc7I-803g1X2WXwab5D5tIM8f0ckqSyAzKhwc_G7ys-WAAf1U_ghE_BQ39-NRTDhoBx7v9lb6bLbZM4Vo3CEx-ZZIXJ5ZHQEr16VXFEfjqwKF6-gf9sUI7aWX4TQ8RJsAkWAK2379vXMrnf2OcxfaQGBudIa9M0YOgOtPjnh4kC9kA2S_a5Fnz_QhafDbynpTjHgNdI381ktOpwZvvZDfaurWXHXLow5hbLqNL3oD8cb5fk1tx8iU9u7UX9A5l2ycwXBLdZjRu3ATjVHU7pK4Kl955AbCkm5xQcbCtzCmntvJDu9qAPPYjbItzGI9f-0-G0T44UUhmbPD-tlfLO6X1t597f-3Ejq1Dq9Eep9_88KTfnPG5nvql9pPFtRJ_C4L2wxUXJSut4TwULac1KB1fBtpapKKci0kNCZDX6E8rmrGZ-cV-wOFMlxPp91XNGw4Kn4TkjmN98UVpiObzhIqnE2S2DWhuOz1FTuNDFtIaoVvqqS04ThT2niJ_qsUcB9JPK76gBdEsvpYoU44mDfC4S/download\n",
            "Resolving public.boxcloud.com (public.boxcloud.com)... 103.116.4.200\n",
            "Connecting to public.boxcloud.com (public.boxcloud.com)|103.116.4.200|:443... connected.\n",
            "HTTP request sent, awaiting response... 200 OK\n",
            "Length: 12714601 (12M) [application/octet-stream]\n",
            "Saving to: ‘wikitext2-sentencized.json’\n",
            "\n",
            "wikitext2-sentenciz 100%[===================>]  12.12M  10.1MB/s    in 1.2s    \n",
            "\n",
            "2019-10-07 00:21:51 (10.1 MB/s) - ‘wikitext2-sentencized.json’ saved [12714601/12714601]\n",
            "\n",
            "Vocab size: 33175\n"
          ],
          "name": "stdout"
        }
      ]
    },
    {
      "cell_type": "code",
      "metadata": {
        "id": "xGqIyTFmDfrM",
        "colab_type": "code",
        "outputId": "723aad90-a581-43e9-9b0b-a9bc76e20da3",
        "colab": {
          "base_uri": "https://localhost:8080/",
          "height": 34
        }
      },
      "source": [
        "datasets.keys()"
      ],
      "execution_count": 0,
      "outputs": [
        {
          "output_type": "execute_result",
          "data": {
            "text/plain": [
              "dict_keys(['train', 'valid', 'test'])"
            ]
          },
          "metadata": {
            "tags": []
          },
          "execution_count": 8
        }
      ]
    },
    {
      "cell_type": "code",
      "metadata": {
        "id": "6NSz3jyD2qsk",
        "colab_type": "code",
        "outputId": "10d8c3ae-438e-413b-dc3d-956fbef80503",
        "colab": {
          "base_uri": "https://localhost:8080/",
          "height": 68
        }
      },
      "source": [
        "print('train size:', len(datasets['train']),'\\nvalid size:',len(datasets['valid']),'\\ntest size:',len(datasets['test']))"
      ],
      "execution_count": 0,
      "outputs": [
        {
          "output_type": "stream",
          "text": [
            "train size: 78274 \n",
            "valid size: 8464 \n",
            "test size: 9708\n"
          ],
          "name": "stdout"
        }
      ]
    },
    {
      "cell_type": "markdown",
      "metadata": {
        "id": "5o_A_F1yDfrT",
        "colab_type": "text"
      },
      "source": [
        "## II. Neural Language Modeling with a Recurrent Neural Network"
      ]
    },
    {
      "cell_type": "markdown",
      "metadata": {
        "id": "7r9Q1aFyDfrW",
        "colab_type": "text"
      },
      "source": [
        "#### Utilities\n",
        "\n",
        "(Hint: you can adopt the `Dictionary`, dataset loading, and training code from the lab for use here)"
      ]
    },
    {
      "cell_type": "code",
      "metadata": {
        "id": "kmHuhyOeDfra",
        "colab_type": "code",
        "colab": {}
      },
      "source": [
        "#make dataset\n",
        "import torch\n",
        "import torch.nn as nn\n",
        "import torch.optim as optim\n",
        "from torch.utils.data import Dataset, RandomSampler, SequentialSampler, DataLoader\n",
        "\n",
        "class Dictionary(object):\n",
        "    def __init__(self, datasets, include_valid=False):\n",
        "        self.tokens = []\n",
        "        self.ids = {}\n",
        "        self.counts = {}\n",
        "        \n",
        "        # add special tokens\n",
        "        self.add_token('<bos>')\n",
        "        self.add_token('<eos>')\n",
        "        self.add_token('<pad>')\n",
        "        self.add_token('<unk>')\n",
        "        \n",
        "        for line in tqdm(datasets['train']):  #显示进度条Instantly make your loops show a smart progress meter - just wrap any iterable with tqdm(iterable)\n",
        "            for w in line:\n",
        "                self.add_token(w)\n",
        "                    \n",
        "        if include_valid is True:\n",
        "            for line in tqdm(datasets['valid']):\n",
        "                for w in line:\n",
        "                    self.add_token(w)\n",
        "                            \n",
        "    def add_token(self, w):\n",
        "        if w not in self.tokens:\n",
        "            self.tokens.append(w)\n",
        "            _w_id = len(self.tokens) - 1\n",
        "            self.ids[w] = _w_id\n",
        "            self.counts[w] = 1\n",
        "        else:\n",
        "            self.counts[w] += 1\n",
        "\n",
        "    def get_id(self, w):\n",
        "        return self.ids[w]\n",
        "    \n",
        "    def get_token(self, idx):\n",
        "        return self.tokens[idx]\n",
        "    \n",
        "    def decode_idx_seq(self, l):\n",
        "        return [self.tokens[i] for i in l]\n",
        "    \n",
        "    def encode_token_seq(self, l):\n",
        "        return [self.ids[i] if i in self.ids else self.ids['<unk>'] for i in l]\n",
        "    \n",
        "    def __len__(self):\n",
        "        return len(self.tokens)\n",
        "\n",
        "def tokenize_dataset(datasets, dictionary, ngram_order=2):\n",
        "    tokenized_datasets = {}\n",
        "    for split, dataset in datasets.items():\n",
        "        _current_dictified = []\n",
        "        for l in tqdm(dataset):\n",
        "            l = ['<bos>']*(ngram_order-1) + l + ['<eos>']\n",
        "            encoded_l = dictionary.encode_token_seq(l)\n",
        "            _current_dictified.append(encoded_l)\n",
        "        tokenized_datasets[split] = _current_dictified\n",
        "        \n",
        "    return tokenized_datasets\n",
        "\n",
        "class TensoredDataset(Dataset):\n",
        "    def __init__(self, list_of_lists_of_tokens):\n",
        "        self.input_tensors = []\n",
        "        self.target_tensors = []\n",
        "        \n",
        "        for sample in list_of_lists_of_tokens:\n",
        "            self.input_tensors.append(torch.tensor([sample[:-1]], dtype=torch.long))\n",
        "            self.target_tensors.append(torch.tensor([sample[1:]], dtype=torch.long))#从第二个词开始就是target，shifted version of sequence as  \n",
        "    \n",
        "    def __len__(self):\n",
        "        return len(self.input_tensors)\n",
        "    \n",
        "    def __getitem__(self, idx):\n",
        "        # return a (input, target) tuple\n",
        "        return (self.input_tensors[idx], self.target_tensors[idx])\n",
        "    \n",
        "def pad_list_of_tensors(list_of_tensors, pad_token):\n",
        "    max_length = max([t.size(-1) for t in list_of_tensors])\n",
        "    padded_list = []\n",
        "    \n",
        "    for t in list_of_tensors:\n",
        "        padded_tensor = torch.cat([t, torch.tensor([[pad_token]*(max_length - t.size(-1))], dtype=torch.long)], dim = -1)\n",
        "        padded_list.append(padded_tensor)\n",
        "        \n",
        "    padded_tensor = torch.cat(padded_list, dim=0)\n",
        "    \n",
        "    return padded_tensor\n",
        "\n",
        "def pad_collate_fn(batch):\n",
        "    # batch is a list of sample tuples\n",
        "    input_list = [s[0] for s in batch]\n",
        "    target_list = [s[1] for s in batch]\n",
        "    \n",
        "    pad_token = wiki_dict.get_id('<pad>') # pad_token = 2\n",
        "    \n",
        "    input_tensor = pad_list_of_tensors(input_list, pad_token)\n",
        "    target_tensor = pad_list_of_tensors(target_list, pad_token)\n",
        "    \n",
        "    return input_tensor, target_tensor"
      ],
      "execution_count": 0,
      "outputs": []
    },
    {
      "cell_type": "code",
      "metadata": {
        "id": "ceQhyp7tDfrc",
        "colab_type": "code",
        "outputId": "5e4059c7-024e-4a09-d3e5-9de9bb21f754",
        "colab": {
          "base_uri": "https://localhost:8080/",
          "height": 258
        }
      },
      "source": [
        "wiki_dict = Dictionary(datasets,include_valid=False)\n",
        "# checking some example\n",
        "print(' '.join(datasets['train'][3010]))\n",
        "encoded = wiki_dict.encode_token_seq(datasets['train'][3010])\n",
        "print(f'\\n encoded - {encoded}')\n",
        "decoded = wiki_dict.decode_idx_seq(encoded)\n",
        "print(f'\\n decoded - {decoded}')\n",
        "\n",
        "tokenized_datasets = tokenize_dataset(datasets, wiki_dict)\n",
        "tensor_dataset = {}\n",
        "\n",
        "for split, listoflists in tokenized_datasets.items():\n",
        "    tensor_dataset[split] = TensoredDataset(listoflists)\n",
        "    \n",
        "# check the first example\n",
        "tensor_dataset['train'][0]"
      ],
      "execution_count": 0,
      "outputs": [
        {
          "output_type": "stream",
          "text": [
            "100%|██████████| 78274/78274 [02:11<00:00, 593.10it/s]\n",
            " 18%|█▊        | 14095/78274 [00:00<00:00, 140932.66it/s]"
          ],
          "name": "stderr"
        },
        {
          "output_type": "stream",
          "text": [
            "The Nataraja and Ardhanarishvara sculptures are also attributed to the Rashtrakutas .\n",
            "\n",
            " encoded - [75, 8816, 30, 8817, 8732, 70, 91, 2960, 13, 6, 8806, 39]\n",
            "\n",
            " decoded - ['The', 'Nataraja', 'and', 'Ardhanarishvara', 'sculptures', 'are', 'also', 'attributed', 'to', 'the', 'Rashtrakutas', '.']\n"
          ],
          "name": "stdout"
        },
        {
          "output_type": "stream",
          "text": [
            "100%|██████████| 78274/78274 [00:00<00:00, 94176.86it/s]\n",
            "100%|██████████| 8464/8464 [00:00<00:00, 133220.96it/s]\n",
            "100%|██████████| 9708/9708 [00:00<00:00, 137731.67it/s]\n"
          ],
          "name": "stderr"
        },
        {
          "output_type": "execute_result",
          "data": {
            "text/plain": [
              "(tensor([[ 0,  4,  5,  6,  7,  8,  9, 10, 11, 12, 13, 14,  4, 15, 16, 17, 18, 10,\n",
              "          19, 20, 21, 22, 23, 24, 25, 26, 27, 28, 29, 30, 31]]),\n",
              " tensor([[ 4,  5,  6,  7,  8,  9, 10, 11, 12, 13, 14,  4, 15, 16, 17, 18, 10, 19,\n",
              "          20, 21, 22, 23, 24, 25, 26, 27, 28, 29, 30, 31,  1]]))"
            ]
          },
          "metadata": {
            "tags": []
          },
          "execution_count": 74
        }
      ]
    },
    {
      "cell_type": "code",
      "metadata": {
        "id": "V8Q_JFcWDfrf",
        "colab_type": "code",
        "colab": {}
      },
      "source": [
        "loaders = {}\n",
        "\n",
        "batch_size = 32\n",
        "\n",
        "for split, wiki_dataset in tensor_dataset.items():\n",
        "    loaders[split] = DataLoader(wiki_dataset, batch_size=batch_size, shuffle=True, collate_fn=pad_collate_fn)"
      ],
      "execution_count": 0,
      "outputs": []
    },
    {
      "cell_type": "markdown",
      "metadata": {
        "id": "FZfDCOxgDfrZ",
        "colab_type": "text"
      },
      "source": [
        "### II.1 LSTM and Hyper-Parameters"
      ]
    },
    {
      "cell_type": "markdown",
      "metadata": {
        "id": "7esYzeIQDfrh",
        "colab_type": "text"
      },
      "source": [
        "#### make model\n"
      ]
    },
    {
      "cell_type": "code",
      "metadata": {
        "id": "02hmRa9u9uBi",
        "colab_type": "code",
        "colab": {}
      },
      "source": [
        "# 1.RNN (Baseline)\n",
        "class RNN_LM(nn.Module):\n",
        "    \"\"\"\n",
        "    This model combines embedding, lstm and projection layer into a single model\n",
        "    \"\"\"\n",
        "    def __init__(self, options):\n",
        "        super().__init__()\n",
        "        \n",
        "        # create each LM part here \n",
        "        self.lookup = nn.Embedding(num_embeddings=options['num_embeddings'], embedding_dim=options['embedding_dim'], padding_idx=options['padding_idx'])\n",
        "        self.rnn = nn.RNN(options['input_size'], options['hidden_size'], options['num_layers'], dropout=options['dropout'], batch_first=True) #inputs,outputs\n",
        "        self.projection = nn.Linear(options['hidden_size'], options['num_embeddings'])\n",
        "        \n",
        "    def forward(self, encoded_input_sequence):\n",
        "        \"\"\"\n",
        "        Forward method process the input from token ids to logits\n",
        "        \"\"\"\n",
        "        embeddings = self.lookup(encoded_input_sequence)\n",
        "        rnn_output,hidden = self.rnn(embeddings) #return a tuple,out的last slice和hidden一样（因为out give you access to all hidden states in the sequence, hidden will allow you to continue the sequence and backpropagate)        \n",
        "        logits = self.projection(rnn_output)#why 0?rnn gives all outputs of all hiddens it has computed so far.\n",
        "\n",
        "        return logits"
      ],
      "execution_count": 0,
      "outputs": []
    },
    {
      "cell_type": "code",
      "metadata": {
        "id": "RL6g8qkWDfri",
        "colab_type": "code",
        "colab": {}
      },
      "source": [
        "# 2.LSTM\n",
        "class LSTM_LM(nn.Module):\n",
        "    \"\"\"\n",
        "    This model combines embedding, lstm and projection layer into a single model\n",
        "    \"\"\"\n",
        "    def __init__(self, options):\n",
        "        super().__init__()\n",
        "        \n",
        "        # create each LM part here \n",
        "        self.lookup = nn.Embedding(num_embeddings=options['num_embeddings'], embedding_dim=options['embedding_dim'], padding_idx=options['padding_idx'])\n",
        "        self.lstm = nn.LSTM(options['input_size'], options['hidden_size'], options['num_layers'], dropout=options['dropout'], batch_first=True) #inputs,outputs\n",
        "        self.projection = nn.Linear(options['hidden_size'], options['num_embeddings'])\n",
        "        \n",
        "    def forward(self, encoded_input_sequence):\n",
        "        \"\"\"\n",
        "        Forward method process the input from token ids to logits\n",
        "        \"\"\"\n",
        "        embeddings = self.lookup(encoded_input_sequence)\n",
        "        lstm_output,hidden = self.lstm(embeddings) #out的last slice和hidden一样（因为out give you access to all hidden states in the sequence, hidden will allow you to continue the sequence and backpropagate)\n",
        "        logits = self.projection(lstm_output)\n",
        "        \n",
        "        return logits"
      ],
      "execution_count": 0,
      "outputs": []
    },
    {
      "cell_type": "markdown",
      "metadata": {
        "id": "iJFaVPJmjlMS",
        "colab_type": "text"
      },
      "source": [
        "##### RNN"
      ]
    },
    {
      "cell_type": "code",
      "metadata": {
        "id": "9KUQspuhDfro",
        "colab_type": "code",
        "colab": {}
      },
      "source": [
        "# creating a model, criterion and optimizer\n",
        "#specify which model(RNN or LSTM) or if use a pretrained or not\n",
        "num_gpus = torch.cuda.device_count()\n",
        "if num_gpus > 0:\n",
        "    current_device = 'cuda'\n",
        "else:\n",
        "    current_device = 'cpu'\n",
        "assert current_device == 'cuda'\n",
        "\n",
        "load_pretrained = True\n",
        "model_type = 'rnn'\n",
        "model_path = os.path.join(model_folder_path,'wiki_rnn_lm.pt')\n",
        "\n",
        "if load_pretrained:\n",
        "    if model_type == 'lstm':\n",
        "        if not os.path.exists('wiki_lstm_lm.pt'):\n",
        "            raise EOFError('No model downloaded!')\n",
        "        model_dict = torch.load('wiki_lstm_lm.pt')\n",
        "\n",
        "        options = model_dict['options']\n",
        "        model = LSTM_LM(options).to(current_device)\n",
        "        model.load_state_dict(model_dict['model_dict'])\n",
        "        \n",
        "    if model_type =='rnn':\n",
        "        if not os.path.exists('wiki_rnn_lm.pt'):\n",
        "            raise EOFError('No model downloaded!')\n",
        "        model_dict = torch.load(model_path)\n",
        "\n",
        "        options = model_dict['options']\n",
        "        model = RNN_LM(options).to(current_device)\n",
        "        model.load_state_dict(model_dict['model_dict'])\n",
        "\n",
        "else:\n",
        "    embedding_dim = 64\n",
        "    hidden_size = 128\n",
        "    num_layers = 2\n",
        "    dropout = 0.1\n",
        "\n",
        "    options = {\n",
        "        'num_embeddings': len(wiki_dict),\n",
        "        'embedding_dim': embedding_dim,\n",
        "        'padding_idx': wiki_dict.get_id('<pad>'),\n",
        "        'input_size': embedding_dim,\n",
        "        'hidden_size': hidden_size,\n",
        "        'num_layers': num_layers,\n",
        "        'dropout': dropout,\n",
        "    }\n",
        "    if model_type == 'lstm':\n",
        "        model = LSTM_LM(options).to(current_device)\n",
        "    if model_type == 'rnn':\n",
        "        model = RNN_LM(options).to(current_device)\n",
        "\n",
        "criterion = nn.CrossEntropyLoss(ignore_index=wiki_dict.get_id('<pad>'),reduction='sum')\n",
        "model_parameters = [p for p in model.parameters() if p.requires_grad]\n",
        "optimizer = optim.Adam(model_parameters, lr=0.001)"
      ],
      "execution_count": 0,
      "outputs": []
    },
    {
      "cell_type": "code",
      "metadata": {
        "id": "jeB49BNTDfrq",
        "colab_type": "code",
        "outputId": "bfc80961-32db-4dba-9e9d-072791684e69",
        "colab": {
          "base_uri": "https://localhost:8080/",
          "height": 102
        }
      },
      "source": [
        "model"
      ],
      "execution_count": 0,
      "outputs": [
        {
          "output_type": "execute_result",
          "data": {
            "text/plain": [
              "RNN_LM(\n",
              "  (lookup): Embedding(33181, 64, padding_idx=2)\n",
              "  (rnn): RNN(64, 128, num_layers=2, batch_first=True, dropout=0.1)\n",
              "  (projection): Linear(in_features=128, out_features=33181, bias=True)\n",
              ")"
            ]
          },
          "metadata": {
            "tags": []
          },
          "execution_count": 60
        }
      ]
    },
    {
      "cell_type": "code",
      "metadata": {
        "colab_type": "code",
        "outputId": "7de25b97-9e70-4716-e7b0-ed1e61ee95d0",
        "id": "O0_s1CYkGgu8",
        "colab": {
          "base_uri": "https://localhost:8080/",
          "height": 1000
        }
      },
      "source": [
        "# now we make same training loop, now with dataset and the model\n",
        "\n",
        "plot_cache = []\n",
        "\n",
        "for epoch_number in range(10):\n",
        "    avg_loss=0\n",
        "    if not load_pretrained:\n",
        "        # do train\n",
        "        model.train()\n",
        "        \n",
        "        train_loss_cache = 0\n",
        "        train_non_pad_tokens_cache = 0\n",
        "        \n",
        "        for i, (inp, target) in enumerate(loaders['train']):\n",
        "            optimizer.zero_grad()\n",
        "            inp = inp.to(current_device)\n",
        "            target = target.to(current_device)\n",
        "            logits = model(inp)\n",
        "            \n",
        "            loss = criterion(logits.view(-1, logits.size(-1)), target.view(-1))\n",
        "            train_loss_cache += loss.item()  # still sum here\n",
        "            \n",
        "            ### HERE WE COMPUTE NUMBER OF NON_PAD TOKENS IN THE TARGET\n",
        "            non_pad_tokens = target.view(-1).ne(wiki_dict.get_id('<pad>')).sum().item()\n",
        "            \n",
        "            train_non_pad_tokens_cache += non_pad_tokens\n",
        "            \n",
        "            loss /= non_pad_tokens  # very important to normalize your current loss before you run .backward()\n",
        "            \n",
        "            loss.backward()\n",
        "            optimizer.step()\n",
        "                        \n",
        "            if i % 100 == 0:\n",
        "                avg_loss = train_loss_cache / train_non_pad_tokens_cache\n",
        "                print('Step {} avg train loss = {:.{prec}f}'.format(i, avg_loss, prec=4))\n",
        "            \n",
        "    #do valid\n",
        "\n",
        "    valid_loss_cache = 0\n",
        "    valid_non_pad_tokens_cache = 0\n",
        "    \n",
        "    model.eval()\n",
        "    with torch.no_grad():\n",
        "        for i, (inp, target) in enumerate(loaders['valid']):\n",
        "            inp = inp.to(current_device)\n",
        "            target = target.to(current_device)\n",
        "            logits = model(inp)\n",
        "\n",
        "            loss = criterion(logits.view(-1, logits.size(-1)), target.view(-1))\n",
        "            valid_loss_cache += loss.item()  # still sum here\n",
        "            \n",
        "            ### HERE WE COMPUTE NUMBER OF NON_PAD TOKENS IN THE TARGET\n",
        "            non_pad_tokens = target.view(-1).ne(wiki_dict.get_id('<pad>')).sum().item()\n",
        "            \n",
        "            valid_non_pad_tokens_cache += non_pad_tokens\n",
        "            \n",
        "        avg_val_loss = valid_loss_cache / valid_non_pad_tokens_cache\n",
        "            \n",
        "        print('Validation loss after {} epoch = {:.{prec}f}'.format(epoch_number, avg_val_loss, prec=4))\n",
        "        \n",
        "    plot_cache.append((avg_loss, avg_val_loss))\n",
        "\n",
        "    if load_pretrained:\n",
        "        break\n",
        "if model_type == 'lstm':\n",
        "    lstm_plot_cache = plot_cache\n",
        "if model_type == 'rnn':\n",
        "    rnn_plot_cache = plot_cache"
      ],
      "execution_count": 0,
      "outputs": [
        {
          "output_type": "stream",
          "text": [
            "Step 0 avg train loss = 10.4288\n",
            "Step 100 avg train loss = 7.7435\n",
            "Step 200 avg train loss = 7.3367\n",
            "Step 300 avg train loss = 7.1327\n",
            "Step 400 avg train loss = 7.0006\n",
            "Step 500 avg train loss = 6.8983\n",
            "Step 600 avg train loss = 6.8192\n",
            "Step 700 avg train loss = 6.7519\n",
            "Step 800 avg train loss = 6.6939\n",
            "Step 900 avg train loss = 6.6447\n",
            "Step 1000 avg train loss = 6.6010\n",
            "Step 1100 avg train loss = 6.5596\n",
            "Step 1200 avg train loss = 6.5238\n",
            "Step 1300 avg train loss = 6.4894\n",
            "Step 1400 avg train loss = 6.4585\n",
            "Step 1500 avg train loss = 6.4313\n",
            "Step 1600 avg train loss = 6.4043\n",
            "Step 1700 avg train loss = 6.3803\n",
            "Step 1800 avg train loss = 6.3568\n",
            "Step 1900 avg train loss = 6.3340\n",
            "Step 2000 avg train loss = 6.3138\n",
            "Step 2100 avg train loss = 6.2937\n",
            "Step 2200 avg train loss = 6.2757\n",
            "Step 2300 avg train loss = 6.2585\n",
            "Step 2400 avg train loss = 6.2411\n",
            "Validation loss after 0 epoch = 5.6907\n",
            "Step 0 avg train loss = 5.5617\n",
            "Step 100 avg train loss = 5.7252\n",
            "Step 200 avg train loss = 5.7123\n",
            "Step 300 avg train loss = 5.7101\n",
            "Step 400 avg train loss = 5.7114\n",
            "Step 500 avg train loss = 5.7071\n",
            "Step 600 avg train loss = 5.7050\n",
            "Step 700 avg train loss = 5.6985\n",
            "Step 800 avg train loss = 5.6952\n",
            "Step 900 avg train loss = 5.6936\n",
            "Step 1000 avg train loss = 5.6903\n",
            "Step 1100 avg train loss = 5.6854\n",
            "Step 1200 avg train loss = 5.6822\n",
            "Step 1300 avg train loss = 5.6798\n",
            "Step 1400 avg train loss = 5.6766\n",
            "Step 1500 avg train loss = 5.6743\n",
            "Step 1600 avg train loss = 5.6716\n",
            "Step 1700 avg train loss = 5.6666\n",
            "Step 1800 avg train loss = 5.6608\n",
            "Step 1900 avg train loss = 5.6568\n",
            "Step 2000 avg train loss = 5.6536\n",
            "Step 2100 avg train loss = 5.6490\n",
            "Step 2200 avg train loss = 5.6460\n",
            "Step 2300 avg train loss = 5.6430\n",
            "Step 2400 avg train loss = 5.6389\n",
            "Validation loss after 1 epoch = 5.5088\n",
            "Step 0 avg train loss = 5.2260\n",
            "Step 100 avg train loss = 5.3873\n",
            "Step 200 avg train loss = 5.3914\n",
            "Step 300 avg train loss = 5.3962\n",
            "Step 400 avg train loss = 5.3966\n",
            "Step 500 avg train loss = 5.4003\n",
            "Step 600 avg train loss = 5.4021\n",
            "Step 700 avg train loss = 5.4051\n",
            "Step 800 avg train loss = 5.4045\n",
            "Step 900 avg train loss = 5.4045\n",
            "Step 1000 avg train loss = 5.4032\n",
            "Step 1100 avg train loss = 5.4032\n",
            "Step 1200 avg train loss = 5.4018\n",
            "Step 1300 avg train loss = 5.4021\n",
            "Step 1400 avg train loss = 5.4038\n",
            "Step 1500 avg train loss = 5.4022\n",
            "Step 1600 avg train loss = 5.4029\n",
            "Step 1700 avg train loss = 5.4016\n",
            "Step 1800 avg train loss = 5.4017\n",
            "Step 1900 avg train loss = 5.4002\n",
            "Step 2000 avg train loss = 5.3986\n",
            "Step 2100 avg train loss = 5.3973\n",
            "Step 2200 avg train loss = 5.3964\n",
            "Step 2300 avg train loss = 5.3957\n",
            "Step 2400 avg train loss = 5.3955\n",
            "Validation loss after 2 epoch = 5.4235\n",
            "Step 0 avg train loss = 5.3070\n",
            "Step 100 avg train loss = 5.2171\n",
            "Step 200 avg train loss = 5.2107\n",
            "Step 300 avg train loss = 5.2153\n",
            "Step 400 avg train loss = 5.2164\n",
            "Step 500 avg train loss = 5.2230\n",
            "Step 600 avg train loss = 5.2229\n",
            "Step 700 avg train loss = 5.2198\n",
            "Step 800 avg train loss = 5.2236\n",
            "Step 900 avg train loss = 5.2222\n",
            "Step 1000 avg train loss = 5.2233\n",
            "Step 1100 avg train loss = 5.2246\n",
            "Step 1200 avg train loss = 5.2272\n",
            "Step 1300 avg train loss = 5.2286\n",
            "Step 1400 avg train loss = 5.2291\n",
            "Step 1500 avg train loss = 5.2299\n",
            "Step 1600 avg train loss = 5.2301\n",
            "Step 1700 avg train loss = 5.2307\n",
            "Step 1800 avg train loss = 5.2301\n",
            "Step 1900 avg train loss = 5.2310\n",
            "Step 2000 avg train loss = 5.2319\n",
            "Step 2100 avg train loss = 5.2329\n",
            "Step 2200 avg train loss = 5.2323\n",
            "Step 2300 avg train loss = 5.2326\n",
            "Step 2400 avg train loss = 5.2317\n",
            "Validation loss after 3 epoch = 5.3817\n",
            "Step 0 avg train loss = 5.1949\n",
            "Step 100 avg train loss = 5.0591\n",
            "Step 200 avg train loss = 5.0743\n",
            "Step 300 avg train loss = 5.0767\n",
            "Step 400 avg train loss = 5.0814\n",
            "Step 500 avg train loss = 5.0910\n",
            "Step 600 avg train loss = 5.0940\n",
            "Step 700 avg train loss = 5.0953\n",
            "Step 800 avg train loss = 5.0944\n",
            "Step 900 avg train loss = 5.0976\n",
            "Step 1000 avg train loss = 5.0988\n",
            "Step 1100 avg train loss = 5.1006\n",
            "Step 1200 avg train loss = 5.1016\n",
            "Step 1300 avg train loss = 5.1031\n",
            "Step 1400 avg train loss = 5.1051\n",
            "Step 1500 avg train loss = 5.1057\n",
            "Step 1600 avg train loss = 5.1070\n",
            "Step 1700 avg train loss = 5.1073\n",
            "Step 1800 avg train loss = 5.1089\n",
            "Step 1900 avg train loss = 5.1091\n",
            "Step 2000 avg train loss = 5.1096\n",
            "Step 2100 avg train loss = 5.1095\n",
            "Step 2200 avg train loss = 5.1116\n",
            "Step 2300 avg train loss = 5.1119\n",
            "Step 2400 avg train loss = 5.1124\n",
            "Validation loss after 4 epoch = 5.3536\n",
            "Step 0 avg train loss = 5.1118\n",
            "Step 100 avg train loss = 4.9606\n",
            "Step 200 avg train loss = 4.9744\n",
            "Step 300 avg train loss = 4.9781\n",
            "Step 400 avg train loss = 4.9826\n",
            "Step 500 avg train loss = 4.9829\n",
            "Step 600 avg train loss = 4.9834\n",
            "Step 700 avg train loss = 4.9875\n",
            "Step 800 avg train loss = 4.9902\n",
            "Step 900 avg train loss = 4.9921\n",
            "Step 1000 avg train loss = 4.9919\n",
            "Step 1100 avg train loss = 4.9930\n",
            "Step 1200 avg train loss = 4.9963\n",
            "Step 1300 avg train loss = 4.9989\n",
            "Step 1400 avg train loss = 5.0014\n",
            "Step 1500 avg train loss = 5.0027\n",
            "Step 1600 avg train loss = 5.0038\n",
            "Step 1700 avg train loss = 5.0055\n",
            "Step 1800 avg train loss = 5.0080\n",
            "Step 1900 avg train loss = 5.0096\n",
            "Step 2000 avg train loss = 5.0096\n",
            "Step 2100 avg train loss = 5.0115\n",
            "Step 2200 avg train loss = 5.0139\n",
            "Step 2300 avg train loss = 5.0151\n",
            "Step 2400 avg train loss = 5.0164\n",
            "Validation loss after 5 epoch = 5.3390\n",
            "Step 0 avg train loss = 4.6192\n",
            "Step 100 avg train loss = 4.8753\n",
            "Step 200 avg train loss = 4.8806\n",
            "Step 300 avg train loss = 4.8826\n",
            "Step 400 avg train loss = 4.8908\n",
            "Step 500 avg train loss = 4.8952\n",
            "Step 600 avg train loss = 4.8975\n",
            "Step 700 avg train loss = 4.9010\n",
            "Step 800 avg train loss = 4.9045\n",
            "Step 900 avg train loss = 4.9082\n",
            "Step 1000 avg train loss = 4.9084\n",
            "Step 1100 avg train loss = 4.9104\n",
            "Step 1200 avg train loss = 4.9135\n",
            "Step 1300 avg train loss = 4.9148\n",
            "Step 1400 avg train loss = 4.9185\n",
            "Step 1500 avg train loss = 4.9204\n",
            "Step 1600 avg train loss = 4.9213\n",
            "Step 1700 avg train loss = 4.9223\n",
            "Step 1800 avg train loss = 4.9232\n",
            "Step 1900 avg train loss = 4.9249\n",
            "Step 2000 avg train loss = 4.9271\n",
            "Step 2100 avg train loss = 4.9283\n",
            "Step 2200 avg train loss = 4.9304\n",
            "Step 2300 avg train loss = 4.9330\n",
            "Step 2400 avg train loss = 4.9356\n",
            "Validation loss after 6 epoch = 5.3320\n",
            "Step 0 avg train loss = 4.8354\n",
            "Step 100 avg train loss = 4.8200\n",
            "Step 200 avg train loss = 4.8152\n",
            "Step 300 avg train loss = 4.8197\n",
            "Step 400 avg train loss = 4.8274\n",
            "Step 500 avg train loss = 4.8300\n",
            "Step 600 avg train loss = 4.8343\n",
            "Step 700 avg train loss = 4.8388\n",
            "Step 800 avg train loss = 4.8408\n",
            "Step 900 avg train loss = 4.8410\n",
            "Step 1000 avg train loss = 4.8426\n",
            "Step 1100 avg train loss = 4.8463\n",
            "Step 1200 avg train loss = 4.8494\n",
            "Step 1300 avg train loss = 4.8520\n",
            "Step 1400 avg train loss = 4.8527\n",
            "Step 1500 avg train loss = 4.8524\n",
            "Step 1600 avg train loss = 4.8544\n",
            "Step 1700 avg train loss = 4.8562\n",
            "Step 1800 avg train loss = 4.8586\n",
            "Step 1900 avg train loss = 4.8610\n",
            "Step 2000 avg train loss = 4.8638\n",
            "Step 2100 avg train loss = 4.8646\n",
            "Step 2200 avg train loss = 4.8665\n",
            "Step 2300 avg train loss = 4.8682\n",
            "Step 2400 avg train loss = 4.8697\n",
            "Validation loss after 7 epoch = 5.3329\n",
            "Step 0 avg train loss = 4.6443\n",
            "Step 100 avg train loss = 4.7217\n",
            "Step 200 avg train loss = 4.7359\n",
            "Step 300 avg train loss = 4.7474\n",
            "Step 400 avg train loss = 4.7591\n",
            "Step 500 avg train loss = 4.7710\n",
            "Step 600 avg train loss = 4.7733\n",
            "Step 700 avg train loss = 4.7784\n",
            "Step 800 avg train loss = 4.7813\n",
            "Step 900 avg train loss = 4.7821\n",
            "Step 1000 avg train loss = 4.7849\n",
            "Step 1100 avg train loss = 4.7885\n",
            "Step 1200 avg train loss = 4.7902\n",
            "Step 1300 avg train loss = 4.7916\n",
            "Step 1400 avg train loss = 4.7948\n",
            "Step 1500 avg train loss = 4.7992\n",
            "Step 1600 avg train loss = 4.8019\n",
            "Step 1700 avg train loss = 4.8037\n",
            "Step 1800 avg train loss = 4.8067\n",
            "Step 1900 avg train loss = 4.8092\n",
            "Step 2000 avg train loss = 4.8105\n",
            "Step 2100 avg train loss = 4.8122\n",
            "Step 2200 avg train loss = 4.8144\n",
            "Step 2300 avg train loss = 4.8157\n",
            "Step 2400 avg train loss = 4.8172\n",
            "Validation loss after 8 epoch = 5.3305\n",
            "Step 0 avg train loss = 4.6659\n",
            "Step 100 avg train loss = 4.6676\n",
            "Step 200 avg train loss = 4.6970\n",
            "Step 300 avg train loss = 4.6956\n",
            "Step 400 avg train loss = 4.7083\n",
            "Step 500 avg train loss = 4.7159\n",
            "Step 600 avg train loss = 4.7188\n",
            "Step 700 avg train loss = 4.7210\n",
            "Step 800 avg train loss = 4.7234\n",
            "Step 900 avg train loss = 4.7267\n",
            "Step 1000 avg train loss = 4.7286\n",
            "Step 1100 avg train loss = 4.7333\n",
            "Step 1200 avg train loss = 4.7367\n",
            "Step 1300 avg train loss = 4.7387\n",
            "Step 1400 avg train loss = 4.7405\n",
            "Step 1500 avg train loss = 4.7435\n",
            "Step 1600 avg train loss = 4.7455\n",
            "Step 1700 avg train loss = 4.7470\n",
            "Step 1800 avg train loss = 4.7490\n",
            "Step 1900 avg train loss = 4.7509\n",
            "Step 2000 avg train loss = 4.7526\n",
            "Step 2100 avg train loss = 4.7555\n",
            "Step 2200 avg train loss = 4.7581\n",
            "Step 2300 avg train loss = 4.7608\n",
            "Step 2400 avg train loss = 4.7630\n",
            "Validation loss after 9 epoch = 5.3316\n"
          ],
          "name": "stdout"
        }
      ]
    },
    {
      "cell_type": "code",
      "metadata": {
        "id": "iBj_zAnoeQJh",
        "colab_type": "code",
        "colab": {}
      },
      "source": [
        "# saving the model, like pickle dump\n",
        "if not load_pretrained:\n",
        "    torch.save({\n",
        "        'options': options,\n",
        "        'loss_cache': plot_cache,\n",
        "        'model_dict': model.state_dict() #all params\n",
        "    }, model_path) #file name"
      ],
      "execution_count": 0,
      "outputs": []
    },
    {
      "cell_type": "markdown",
      "metadata": {
        "id": "ul-adwOIaTJ4",
        "colab_type": "text"
      },
      "source": [
        " ##### LSTM"
      ]
    },
    {
      "cell_type": "code",
      "metadata": {
        "id": "xYnnYJnmFnSV",
        "colab_type": "code",
        "colab": {}
      },
      "source": [
        "load_pretrained = False\n",
        "model_type = 'lstm'\n",
        "# creating a model, criterion and optimizer\n",
        "#specify which model(RNN or LSTM) or if use a pretrained or not\n",
        "num_gpus = torch.cuda.device_count()\n",
        "if num_gpus > 0:\n",
        "    current_device = 'cuda'\n",
        "else:\n",
        "    current_device = 'cpu'\n",
        "assert current_device == 'cuda'\n",
        "\n",
        "if load_pretrained:\n",
        "    if model_type == 'lstm':\n",
        "        if not os.path.exists('wiki_lstm_lm.pt'):\n",
        "            raise EOFError('No model downloaded!')\n",
        "        model_dict = torch.load('wiki_lstm_lm.pt')\n",
        "\n",
        "        options = model_dict['options']\n",
        "        model = LSTM_LM(options).to(current_device)\n",
        "        model.load_state_dict(model_dict['model_dict'])\n",
        "        \n",
        "    if model_type =='rnn':\n",
        "        if not os.path.exists('wiki_rnn_lm.pt'):\n",
        "            raise EOFError('No model downloaded!')\n",
        "        model_dict = torch.load('wiki_rnn_lm.pt')\n",
        "\n",
        "        options = model_dict['options']\n",
        "        model = RNN_LM(options).to(current_device)\n",
        "        model.load_state_dict(model_dict['model_dict'])\n",
        "\n",
        "else:\n",
        "    embedding_dim = 64\n",
        "    hidden_size = 128\n",
        "    num_layers = 2\n",
        "    dropout = 0.1\n",
        "\n",
        "    options = {\n",
        "        'num_embeddings': len(wiki_dict),\n",
        "        'embedding_dim': embedding_dim,\n",
        "        'padding_idx': wiki_dict.get_id('<pad>'),\n",
        "        'input_size': embedding_dim,\n",
        "        'hidden_size': hidden_size,\n",
        "        'num_layers': num_layers,\n",
        "        'dropout': dropout,\n",
        "    }\n",
        "    if model_type == 'lstm':\n",
        "        model = LSTM_LM(options).to(current_device)\n",
        "    if model_type == 'rnn':\n",
        "        model = RNN_LM(options).to(current_device)\n",
        "\n",
        "criterion = nn.CrossEntropyLoss(ignore_index=wiki_dict.get_id('<pad>'),reduction='sum')\n",
        "model_parameters = [p for p in model.parameters() if p.requires_grad]\n",
        "optimizer = optim.Adam(model_parameters, lr=0.001)"
      ],
      "execution_count": 0,
      "outputs": []
    },
    {
      "cell_type": "code",
      "metadata": {
        "id": "PmpVbKLVZ_vv",
        "colab_type": "code",
        "outputId": "67973602-0596-4db6-9179-717797a7c467",
        "colab": {
          "base_uri": "https://localhost:8080/",
          "height": 102
        }
      },
      "source": [
        "model"
      ],
      "execution_count": 0,
      "outputs": [
        {
          "output_type": "execute_result",
          "data": {
            "text/plain": [
              "LSTM_LM(\n",
              "  (lookup): Embedding(33181, 64, padding_idx=2)\n",
              "  (lstm): LSTM(64, 128, num_layers=2, batch_first=True, dropout=0.1)\n",
              "  (projection): Linear(in_features=128, out_features=33181, bias=True)\n",
              ")"
            ]
          },
          "metadata": {
            "tags": []
          },
          "execution_count": 62
        }
      ]
    },
    {
      "cell_type": "code",
      "metadata": {
        "id": "Ma9bDa_caPdq",
        "colab_type": "code",
        "outputId": "bd6a15e7-8da4-467f-cbaf-5055df1c3c98",
        "colab": {
          "base_uri": "https://localhost:8080/",
          "height": 1000
        }
      },
      "source": [
        "# now we make same training loop, now with dataset and the model\n",
        "\n",
        "plot_cache = []\n",
        "\n",
        "for epoch_number in range(10):\n",
        "    avg_loss=0\n",
        "    if not load_pretrained:\n",
        "        # do train\n",
        "        model.train()\n",
        "        \n",
        "        train_loss_cache = 0\n",
        "        train_non_pad_tokens_cache = 0\n",
        "        \n",
        "        for i, (inp, target) in enumerate(loaders['train']):\n",
        "            optimizer.zero_grad()\n",
        "            inp = inp.to(current_device)\n",
        "            target = target.to(current_device)\n",
        "            logits = model(inp)\n",
        "            \n",
        "            loss = criterion(logits.view(-1, logits.size(-1)), target.view(-1))\n",
        "            train_loss_cache += loss.item()  # still sum here\n",
        "            \n",
        "            ### HERE WE COMPUTE NUMBER OF NON_PAD TOKENS IN THE TARGET\n",
        "            non_pad_tokens = target.view(-1).ne(wiki_dict.get_id('<pad>')).sum().item()\n",
        "            \n",
        "            train_non_pad_tokens_cache += non_pad_tokens\n",
        "            \n",
        "            loss /= non_pad_tokens  # very important to normalize your current loss before you run .backward()\n",
        "            \n",
        "            loss.backward()\n",
        "            optimizer.step()\n",
        "                        \n",
        "            if i % 100 == 0:\n",
        "                avg_loss = train_loss_cache / train_non_pad_tokens_cache\n",
        "                print('Step {} avg train loss = {:.{prec}f}'.format(i, avg_loss, prec=4))\n",
        "            \n",
        "    #do valid\n",
        "\n",
        "    valid_loss_cache = 0\n",
        "    valid_non_pad_tokens_cache = 0\n",
        "    \n",
        "    model.eval()\n",
        "    with torch.no_grad():\n",
        "        for i, (inp, target) in enumerate(loaders['valid']):\n",
        "            inp = inp.to(current_device)\n",
        "            target = target.to(current_device)\n",
        "            logits = model(inp)\n",
        "\n",
        "            loss = criterion(logits.view(-1, logits.size(-1)), target.view(-1))\n",
        "            valid_loss_cache += loss.item()  # still sum here\n",
        "            \n",
        "            ### HERE WE COMPUTE NUMBER OF NON_PAD TOKENS IN THE TARGET\n",
        "            non_pad_tokens = target.view(-1).ne(wiki_dict.get_id('<pad>')).sum().item()\n",
        "            \n",
        "            valid_non_pad_tokens_cache += non_pad_tokens\n",
        "            \n",
        "        avg_val_loss = valid_loss_cache / valid_non_pad_tokens_cache\n",
        "            \n",
        "        print('Validation loss after {} epoch = {:.{prec}f}'.format(epoch_number, avg_val_loss, prec=4))\n",
        "        \n",
        "    plot_cache.append((avg_loss, avg_val_loss))\n",
        "\n",
        "    if load_pretrained:\n",
        "        break\n",
        "if model_type == 'lstm':\n",
        "    lstm_plot_cache = plot_cache\n",
        "if model_type == 'rnn':\n",
        "    rnn_plot_cache = plot_cache"
      ],
      "execution_count": 0,
      "outputs": [
        {
          "output_type": "stream",
          "text": [
            "Step 0 avg train loss = 10.4010\n",
            "Step 100 avg train loss = 7.8683\n",
            "Step 200 avg train loss = 7.5247\n",
            "Step 300 avg train loss = 7.3656\n",
            "Step 400 avg train loss = 7.2560\n",
            "Step 500 avg train loss = 7.1702\n",
            "Step 600 avg train loss = 7.0986\n",
            "Step 700 avg train loss = 7.0338\n",
            "Step 800 avg train loss = 6.9773\n",
            "Step 900 avg train loss = 6.9283\n",
            "Step 1000 avg train loss = 6.8843\n",
            "Step 1100 avg train loss = 6.8434\n",
            "Step 1200 avg train loss = 6.8054\n",
            "Step 1300 avg train loss = 6.7713\n",
            "Step 1400 avg train loss = 6.7398\n",
            "Step 1500 avg train loss = 6.7079\n",
            "Step 1600 avg train loss = 6.6802\n",
            "Step 1700 avg train loss = 6.6537\n",
            "Step 1800 avg train loss = 6.6285\n",
            "Step 1900 avg train loss = 6.6045\n",
            "Step 2000 avg train loss = 6.5809\n",
            "Step 2100 avg train loss = 6.5583\n",
            "Step 2200 avg train loss = 6.5378\n",
            "Step 2300 avg train loss = 6.5175\n",
            "Step 2400 avg train loss = 6.4974\n",
            "Validation loss after 0 epoch = 5.8609\n",
            "Step 0 avg train loss = 6.1006\n",
            "Step 100 avg train loss = 5.9409\n",
            "Step 200 avg train loss = 5.9408\n",
            "Step 300 avg train loss = 5.9358\n",
            "Step 400 avg train loss = 5.9277\n",
            "Step 500 avg train loss = 5.9242\n",
            "Step 600 avg train loss = 5.9179\n",
            "Step 700 avg train loss = 5.9092\n",
            "Step 800 avg train loss = 5.9044\n",
            "Step 900 avg train loss = 5.8967\n",
            "Step 1000 avg train loss = 5.8908\n",
            "Step 1100 avg train loss = 5.8863\n",
            "Step 1200 avg train loss = 5.8805\n",
            "Step 1300 avg train loss = 5.8730\n",
            "Step 1400 avg train loss = 5.8659\n",
            "Step 1500 avg train loss = 5.8601\n",
            "Step 1600 avg train loss = 5.8545\n",
            "Step 1700 avg train loss = 5.8476\n",
            "Step 1800 avg train loss = 5.8414\n",
            "Step 1900 avg train loss = 5.8365\n",
            "Step 2000 avg train loss = 5.8303\n",
            "Step 2100 avg train loss = 5.8247\n",
            "Step 2200 avg train loss = 5.8186\n",
            "Step 2300 avg train loss = 5.8135\n",
            "Step 2400 avg train loss = 5.8080\n",
            "Validation loss after 1 epoch = 5.5736\n",
            "Step 0 avg train loss = 5.8299\n",
            "Step 100 avg train loss = 5.5912\n",
            "Step 200 avg train loss = 5.5815\n",
            "Step 300 avg train loss = 5.5837\n",
            "Step 400 avg train loss = 5.5838\n",
            "Step 500 avg train loss = 5.5819\n",
            "Step 600 avg train loss = 5.5758\n",
            "Step 700 avg train loss = 5.5747\n",
            "Step 800 avg train loss = 5.5705\n",
            "Step 900 avg train loss = 5.5680\n",
            "Step 1000 avg train loss = 5.5649\n",
            "Step 1100 avg train loss = 5.5611\n",
            "Step 1200 avg train loss = 5.5583\n",
            "Step 1300 avg train loss = 5.5553\n",
            "Step 1400 avg train loss = 5.5524\n",
            "Step 1500 avg train loss = 5.5489\n",
            "Step 1600 avg train loss = 5.5477\n",
            "Step 1700 avg train loss = 5.5464\n",
            "Step 1800 avg train loss = 5.5436\n",
            "Step 1900 avg train loss = 5.5412\n",
            "Step 2000 avg train loss = 5.5384\n",
            "Step 2100 avg train loss = 5.5356\n",
            "Step 2200 avg train loss = 5.5326\n",
            "Step 2300 avg train loss = 5.5299\n",
            "Step 2400 avg train loss = 5.5269\n",
            "Validation loss after 2 epoch = 5.4462\n",
            "Step 0 avg train loss = 5.3037\n",
            "Step 100 avg train loss = 5.3486\n",
            "Step 200 avg train loss = 5.3529\n",
            "Step 300 avg train loss = 5.3492\n",
            "Step 400 avg train loss = 5.3510\n",
            "Step 500 avg train loss = 5.3537\n",
            "Step 600 avg train loss = 5.3511\n",
            "Step 700 avg train loss = 5.3472\n",
            "Step 800 avg train loss = 5.3497\n",
            "Step 900 avg train loss = 5.3495\n",
            "Step 1000 avg train loss = 5.3473\n",
            "Step 1100 avg train loss = 5.3463\n",
            "Step 1200 avg train loss = 5.3443\n",
            "Step 1300 avg train loss = 5.3433\n",
            "Step 1400 avg train loss = 5.3426\n",
            "Step 1500 avg train loss = 5.3433\n",
            "Step 1600 avg train loss = 5.3439\n",
            "Step 1700 avg train loss = 5.3427\n",
            "Step 1800 avg train loss = 5.3415\n",
            "Step 1900 avg train loss = 5.3408\n",
            "Step 2000 avg train loss = 5.3384\n",
            "Step 2100 avg train loss = 5.3376\n",
            "Step 2200 avg train loss = 5.3368\n",
            "Step 2300 avg train loss = 5.3360\n",
            "Step 2400 avg train loss = 5.3345\n",
            "Validation loss after 3 epoch = 5.3765\n",
            "Step 0 avg train loss = 5.0519\n",
            "Step 100 avg train loss = 5.1814\n",
            "Step 200 avg train loss = 5.1863\n",
            "Step 300 avg train loss = 5.1962\n",
            "Step 400 avg train loss = 5.1930\n",
            "Step 500 avg train loss = 5.1968\n",
            "Step 600 avg train loss = 5.1992\n",
            "Step 700 avg train loss = 5.1979\n",
            "Step 800 avg train loss = 5.1992\n",
            "Step 900 avg train loss = 5.1976\n",
            "Step 1000 avg train loss = 5.1983\n",
            "Step 1100 avg train loss = 5.1967\n",
            "Step 1200 avg train loss = 5.1949\n",
            "Step 1300 avg train loss = 5.1952\n",
            "Step 1400 avg train loss = 5.1946\n",
            "Step 1500 avg train loss = 5.1934\n",
            "Step 1600 avg train loss = 5.1923\n",
            "Step 1700 avg train loss = 5.1908\n",
            "Step 1800 avg train loss = 5.1898\n",
            "Step 1900 avg train loss = 5.1891\n",
            "Step 2000 avg train loss = 5.1871\n",
            "Step 2100 avg train loss = 5.1862\n",
            "Step 2200 avg train loss = 5.1851\n",
            "Step 2300 avg train loss = 5.1846\n",
            "Step 2400 avg train loss = 5.1845\n",
            "Validation loss after 4 epoch = 5.3353\n",
            "Step 0 avg train loss = 5.1574\n",
            "Step 100 avg train loss = 5.0725\n",
            "Step 200 avg train loss = 5.0590\n",
            "Step 300 avg train loss = 5.0557\n",
            "Step 400 avg train loss = 5.0560\n",
            "Step 500 avg train loss = 5.0513\n",
            "Step 600 avg train loss = 5.0532\n",
            "Step 700 avg train loss = 5.0554\n",
            "Step 800 avg train loss = 5.0548\n",
            "Step 900 avg train loss = 5.0548\n",
            "Step 1000 avg train loss = 5.0572\n",
            "Step 1100 avg train loss = 5.0581\n",
            "Step 1200 avg train loss = 5.0584\n",
            "Step 1300 avg train loss = 5.0590\n",
            "Step 1400 avg train loss = 5.0583\n",
            "Step 1500 avg train loss = 5.0573\n",
            "Step 1600 avg train loss = 5.0570\n",
            "Step 1700 avg train loss = 5.0574\n",
            "Step 1800 avg train loss = 5.0578\n",
            "Step 1900 avg train loss = 5.0583\n",
            "Step 2000 avg train loss = 5.0588\n",
            "Step 2100 avg train loss = 5.0590\n",
            "Step 2200 avg train loss = 5.0589\n",
            "Step 2300 avg train loss = 5.0596\n",
            "Step 2400 avg train loss = 5.0597\n",
            "Validation loss after 5 epoch = 5.3130\n",
            "Step 0 avg train loss = 4.9738\n",
            "Step 100 avg train loss = 4.9154\n",
            "Step 200 avg train loss = 4.9254\n",
            "Step 300 avg train loss = 4.9296\n",
            "Step 400 avg train loss = 4.9349\n",
            "Step 500 avg train loss = 4.9372\n",
            "Step 600 avg train loss = 4.9399\n",
            "Step 700 avg train loss = 4.9401\n",
            "Step 800 avg train loss = 4.9426\n",
            "Step 900 avg train loss = 4.9447\n",
            "Step 1000 avg train loss = 4.9450\n",
            "Step 1100 avg train loss = 4.9460\n",
            "Step 1200 avg train loss = 4.9474\n",
            "Step 1300 avg train loss = 4.9480\n",
            "Step 1400 avg train loss = 4.9497\n",
            "Step 1500 avg train loss = 4.9508\n",
            "Step 1600 avg train loss = 4.9493\n",
            "Step 1700 avg train loss = 4.9503\n",
            "Step 1800 avg train loss = 4.9508\n",
            "Step 1900 avg train loss = 4.9527\n",
            "Step 2000 avg train loss = 4.9535\n",
            "Step 2100 avg train loss = 4.9541\n",
            "Step 2200 avg train loss = 4.9536\n",
            "Step 2300 avg train loss = 4.9541\n",
            "Step 2400 avg train loss = 4.9551\n",
            "Validation loss after 6 epoch = 5.3046\n",
            "Step 0 avg train loss = 4.7610\n",
            "Step 100 avg train loss = 4.8376\n",
            "Step 200 avg train loss = 4.8455\n",
            "Step 300 avg train loss = 4.8471\n",
            "Step 400 avg train loss = 4.8482\n",
            "Step 500 avg train loss = 4.8538\n",
            "Step 600 avg train loss = 4.8552\n",
            "Step 700 avg train loss = 4.8569\n",
            "Step 800 avg train loss = 4.8576\n",
            "Step 900 avg train loss = 4.8557\n",
            "Step 1000 avg train loss = 4.8568\n",
            "Step 1100 avg train loss = 4.8577\n",
            "Step 1200 avg train loss = 4.8573\n",
            "Step 1300 avg train loss = 4.8586\n",
            "Step 1400 avg train loss = 4.8602\n",
            "Step 1500 avg train loss = 4.8605\n",
            "Step 1600 avg train loss = 4.8614\n",
            "Step 1700 avg train loss = 4.8619\n",
            "Step 1800 avg train loss = 4.8622\n",
            "Step 1900 avg train loss = 4.8629\n",
            "Step 2000 avg train loss = 4.8645\n",
            "Step 2100 avg train loss = 4.8656\n",
            "Step 2200 avg train loss = 4.8668\n",
            "Step 2300 avg train loss = 4.8677\n",
            "Step 2400 avg train loss = 4.8677\n",
            "Validation loss after 7 epoch = 5.3077\n",
            "Step 0 avg train loss = 4.5050\n",
            "Step 100 avg train loss = 4.7665\n",
            "Step 200 avg train loss = 4.7629\n",
            "Step 300 avg train loss = 4.7637\n",
            "Step 400 avg train loss = 4.7699\n",
            "Step 500 avg train loss = 4.7703\n",
            "Step 600 avg train loss = 4.7730\n",
            "Step 700 avg train loss = 4.7724\n",
            "Step 800 avg train loss = 4.7743\n",
            "Step 900 avg train loss = 4.7777\n",
            "Step 1000 avg train loss = 4.7767\n",
            "Step 1100 avg train loss = 4.7798\n",
            "Step 1200 avg train loss = 4.7797\n",
            "Step 1300 avg train loss = 4.7823\n",
            "Step 1400 avg train loss = 4.7833\n",
            "Step 1500 avg train loss = 4.7862\n",
            "Step 1600 avg train loss = 4.7870\n",
            "Step 1700 avg train loss = 4.7881\n",
            "Step 1800 avg train loss = 4.7883\n",
            "Step 1900 avg train loss = 4.7889\n",
            "Step 2000 avg train loss = 4.7898\n",
            "Step 2100 avg train loss = 4.7913\n",
            "Step 2200 avg train loss = 4.7914\n",
            "Step 2300 avg train loss = 4.7925\n",
            "Step 2400 avg train loss = 4.7925\n",
            "Validation loss after 8 epoch = 5.3109\n",
            "Step 0 avg train loss = 4.5413\n",
            "Step 100 avg train loss = 4.6860\n",
            "Step 200 avg train loss = 4.6852\n",
            "Step 300 avg train loss = 4.6917\n",
            "Step 400 avg train loss = 4.6947\n",
            "Step 500 avg train loss = 4.7011\n",
            "Step 600 avg train loss = 4.7046\n",
            "Step 700 avg train loss = 4.7073\n",
            "Step 800 avg train loss = 4.7057\n",
            "Step 900 avg train loss = 4.7076\n",
            "Step 1000 avg train loss = 4.7086\n",
            "Step 1100 avg train loss = 4.7085\n",
            "Step 1200 avg train loss = 4.7102\n",
            "Step 1300 avg train loss = 4.7123\n",
            "Step 1400 avg train loss = 4.7137\n",
            "Step 1500 avg train loss = 4.7142\n",
            "Step 1600 avg train loss = 4.7172\n",
            "Step 1700 avg train loss = 4.7185\n",
            "Step 1800 avg train loss = 4.7202\n",
            "Step 1900 avg train loss = 4.7214\n",
            "Step 2000 avg train loss = 4.7226\n",
            "Step 2100 avg train loss = 4.7246\n",
            "Step 2200 avg train loss = 4.7244\n",
            "Step 2300 avg train loss = 4.7258\n",
            "Step 2400 avg train loss = 4.7263\n",
            "Validation loss after 9 epoch = 5.3189\n"
          ],
          "name": "stdout"
        }
      ]
    },
    {
      "cell_type": "code",
      "metadata": {
        "id": "gpC7irn10bEe",
        "colab_type": "code",
        "colab": {}
      },
      "source": [
        "# saving the model, like pickle dump\n",
        "model_path = os.path.join(model_folder_path,'hw2_2.1.1_lstm_lm.pt')\n",
        "if not load_pretrained:\n",
        "    torch.save({\n",
        "        'options': options,\n",
        "        'loss_cache': plot_cache,\n",
        "        'model_dict': model.state_dict() #all params\n",
        "    }, model_path) #file name"
      ],
      "execution_count": 0,
      "outputs": []
    },
    {
      "cell_type": "markdown",
      "metadata": {
        "id": "zb2JEbttDfrt",
        "colab_type": "text"
      },
      "source": [
        "#### Results (LSTM vs. Baseline)"
      ]
    },
    {
      "cell_type": "code",
      "metadata": {
        "id": "piSCUkz6Dfru",
        "colab_type": "code",
        "outputId": "b04c8ecb-6205-49dd-e435-1c52e1d80429",
        "colab": {
          "base_uri": "https://localhost:8080/",
          "height": 281
        }
      },
      "source": [
        "import matplotlib.pyplot as plt\n",
        "import numpy\n",
        "\n",
        "epochs = numpy.array(list(range(len(plot_cache))))\n",
        "plt.plot(epochs, [i[0] for i in lstm_plot_cache], label='LSTM Train loss')\n",
        "plt.plot(epochs, [i[1] for i in lstm_plot_cache], label='LSTM Valid loss')\n",
        "plt.plot(epochs, [i[0] for i in rnn_plot_cache], label='RNN Train loss')\n",
        "plt.plot(epochs, [i[1] for i in rnn_plot_cache], label='RNN Valid loss')\n",
        "\n",
        "plt.legend()\n",
        "plt.title('Loss curves of RNN/LSTM')\n",
        "plt.show()"
      ],
      "execution_count": 0,
      "outputs": [
        {
          "output_type": "display_data",
          "data": {
            "image/png": "[encoded data removed]",
            "text/plain": [
              "<Figure size 432x288 with 1 Axes>"
            ]
          },
          "metadata": {
            "tags": []
          }
        }
      ]
    },
    {
      "cell_type": "code",
      "metadata": {
        "id": "jRXt5DYN0OuM",
        "colab_type": "code",
        "outputId": "8528141d-20af-4db2-dea2-e1f5d9d286d6",
        "colab": {
          "base_uri": "https://localhost:8080/",
          "height": 281
        }
      },
      "source": [
        "import matplotlib.pyplot as plt\n",
        "import numpy\n",
        "\n",
        "epochs = numpy.array(list(range(len(plot_cache))))\n",
        "plt.plot(epochs, [2**(i[0]/numpy.log(2)) for i in lstm_plot_cache], label='LSTM Train ppl')\n",
        "plt.plot(epochs, [2**(i[1]/numpy.log(2)) for i in lstm_plot_cache], label='LSTM Valid ppl')\n",
        "plt.plot(epochs, [2**(i[0]/numpy.log(2)) for i in rnn_plot_cache], label='RNN Train ppl')\n",
        "plt.plot(epochs, [2**(i[1]/numpy.log(2)) for i in rnn_plot_cache], label='RNN Valid ppl')\n",
        "         \n",
        "plt.legend()\n",
        "plt.title('PPL curves of RNN/LSTM')\n",
        "plt.show()"
      ],
      "execution_count": 0,
      "outputs": [
        {
          "output_type": "display_data",
          "data": {
            "image/png": "[encoded data removed]",
            "text/plain": [
              "<Figure size 432x288 with 1 Axes>"
            ]
          },
          "metadata": {
            "tags": []
          }
        }
      ]
    },
    {
      "cell_type": "code",
      "metadata": {
        "id": "lyoTgq1L5XNB",
        "colab_type": "code",
        "outputId": "bad7187a-19d1-4ca8-8fed-e0201ef3f264",
        "colab": {
          "base_uri": "https://localhost:8080/",
          "height": 34
        }
      },
      "source": [
        "print('LSTM PPL:',2**(lstm_plot_cache[-1][1]/numpy.log(2)),'RNN PPL',2**(rnn_plot_cache[-1][1]/numpy.log(2)))"
      ],
      "execution_count": 0,
      "outputs": [
        {
          "output_type": "stream",
          "text": [
            "LSTM PPL: 204.16428943493878 RNN PPL 206.77883783443752\n"
          ],
          "name": "stdout"
        }
      ]
    },
    {
      "cell_type": "markdown",
      "metadata": {
        "id": "nCryReIvDfrx",
        "colab_type": "text"
      },
      "source": [
        "#### Performance Variation Based on Hyperparameter Values"
      ]
    },
    {
      "cell_type": "code",
      "metadata": {
        "id": "9zjxZThSDfry",
        "colab_type": "code",
        "colab": {}
      },
      "source": [
        ""
      ],
      "execution_count": 0,
      "outputs": []
    },
    {
      "cell_type": "markdown",
      "metadata": {
        "id": "4QsVFpSyDfr0",
        "colab_type": "text"
      },
      "source": [
        "### II.2 Learned Embeddings"
      ]
    },
    {
      "cell_type": "markdown",
      "metadata": {
        "id": "7BG-64bZDfr1",
        "colab_type": "text"
      },
      "source": [
        "#### Utilities\n",
        "\n",
        "Below is code to use [UMAP](https://umap-learn.readthedocs.io/en/latest/) to find a 2-dimensional representation of a weight matrix, and plot the resulting 2-dimensional points that correspond to certain words.\n",
        "\n",
        "Use `!pip install umap-learn` to install UMAP."
      ]
    },
    {
      "cell_type": "code",
      "metadata": {
        "id": "sRNFbTpbDfr1",
        "colab_type": "code",
        "outputId": "fffa715e-c30b-42b6-e99a-1e48f283ba74",
        "colab": {}
      },
      "source": [
        "%pylab inline \n",
        "import umap\n",
        "import matplotlib.pyplot as plt\n",
        "\n",
        "def umap_plot(weight_matrix, word_ids, words):\n",
        "    \"\"\"Run UMAP on the entire Vxd `weight_matrix` (e.g. model.lookup.weight or model.projection.weight),\n",
        "    And plot the points corresponding to the given `word_ids`. \"\"\"\n",
        "    reduced = umap.UMAP(min_dist=0.0001).fit_transform(weight_matrix.detach().cpu().numpy())\n",
        "    plt.figure(figsize=(20,20))\n",
        "\n",
        "    to_plot = reduced[word_ids, :]\n",
        "    plt.scatter(to_plot[:, 0], to_plot[:, 1])\n",
        "    for i, word_id in enumerate(word_ids):\n",
        "        current_point = to_plot[i]\n",
        "        plt.annotate(words[i], (current_point[0], current_point[1]))\n",
        "\n",
        "    plt.grid()\n",
        "    plt.show()"
      ],
      "execution_count": 0,
      "outputs": [
        {
          "output_type": "stream",
          "text": [
            "Populating the interactive namespace from numpy and matplotlib\n"
          ],
          "name": "stdout"
        }
      ]
    },
    {
      "cell_type": "code",
      "metadata": {
        "id": "j5pA6188Dfr4",
        "colab_type": "code",
        "outputId": "c0b05ed6-4daa-4a30-8d41-0c9da2627616",
        "colab": {}
      },
      "source": [
        "Vsize = 100                                 # e.g. len(dictionary)\n",
        "d = 32                                      # e.g. model.lookup.weight.size(1) \n",
        "fake_weight_matrix = torch.randn(Vsize, d)  # e.g. model.lookup.weight\n",
        "\n",
        "words = ['the', 'dog', 'ran']\n",
        "word_ids = [4, 54, 20]                  # e.g. use dictionary.get_id on a list of words\n",
        "\n",
        "umap_plot(fake_weight_matrix, word_ids, words)"
      ],
      "execution_count": 0,
      "outputs": [
        {
          "output_type": "display_data",
          "data": {
            "image/png": "[encoded data removed]",
            "text/plain": [
              "<Figure size 1440x1440 with 1 Axes>"
            ]
          },
          "metadata": {
            "tags": [],
            "needs_background": "light"
          }
        }
      ]
    },
    {
      "cell_type": "markdown",
      "metadata": {
        "id": "xy51Ty42Dfr6",
        "colab_type": "text"
      },
      "source": [
        "#### II.2.1 Word Similarity"
      ]
    },
    {
      "cell_type": "code",
      "metadata": {
        "id": "8Q27P_vADfr7",
        "colab_type": "code",
        "colab": {}
      },
      "source": [
        ""
      ],
      "execution_count": 0,
      "outputs": []
    },
    {
      "cell_type": "markdown",
      "metadata": {
        "id": "MK0vwMRODfr8",
        "colab_type": "text"
      },
      "source": [
        "#### II.2.2 Embedding Layer"
      ]
    },
    {
      "cell_type": "code",
      "metadata": {
        "id": "3D9sXOB-Dfr-",
        "colab_type": "code",
        "colab": {}
      },
      "source": [
        ""
      ],
      "execution_count": 0,
      "outputs": []
    },
    {
      "cell_type": "markdown",
      "metadata": {
        "id": "vdcmGhoGDfr_",
        "colab_type": "text"
      },
      "source": [
        "#### II.2.3 Projection Layer"
      ]
    },
    {
      "cell_type": "code",
      "metadata": {
        "id": "WdJ0N2ZLDfsA",
        "colab_type": "code",
        "colab": {}
      },
      "source": [
        ""
      ],
      "execution_count": 0,
      "outputs": []
    },
    {
      "cell_type": "markdown",
      "metadata": {
        "id": "C4CvOpFiDfsC",
        "colab_type": "text"
      },
      "source": [
        " "
      ]
    },
    {
      "cell_type": "markdown",
      "metadata": {
        "id": "OOkUcPUQDfsD",
        "colab_type": "text"
      },
      "source": [
        "### II.3 Scoring"
      ]
    },
    {
      "cell_type": "code",
      "metadata": {
        "id": "H_YMW2OGXb4G",
        "colab_type": "code",
        "outputId": "c3761846-912a-4dd2-954b-560876f33d45",
        "colab": {
          "base_uri": "https://localhost:8080/",
          "height": 71
        }
      },
      "source": [
        "num_gpus = torch.cuda.device_count()\n",
        "if num_gpus > 0:\n",
        "    current_device = 'cuda'\n",
        "else:\n",
        "    current_device = 'cpu'\n",
        "assert current_device == 'cuda'\n",
        "from google.colab import drive\n",
        "drive.mount('/content/drive')\n",
        "basedir = '/content/drive/My Drive/1011 NLP/HW2/Playground_Rui'\n",
        "# data_folder_path = os.path.join(basedir, 'data')\n",
        "model_folder_path = os.path.join(basedir, 'model')\n",
        "\n",
        "#best model\n",
        "model_dict = torch.load(os.path.join(model_folder_path,'lstm_best_model.pt'))\n",
        "options = model_dict['options']\n",
        "options['dropout'] = options.pop('lstm_dropout')\n",
        "model = LSTM_LM(options).to(current_device)\n",
        "model.load_state_dict(model_dict['model_dict'])\n",
        "\n",
        "# #baseline model\n",
        "# model_dict = torch.load(os.path.join(model_folder_path,'wiki_lstm_lm.pt'))\n",
        "# options = model_dict['options']\n",
        "# model = LSTM_LM(options).to(current_device)\n",
        "# model.load_state_dict(model_dict['model_dict'])"
      ],
      "execution_count": 0,
      "outputs": [
        {
          "output_type": "stream",
          "text": [
            "Drive already mounted at /content/drive; to attempt to forcibly remount, call drive.mount(\"/content/drive\", force_remount=True).\n"
          ],
          "name": "stdout"
        },
        {
          "output_type": "execute_result",
          "data": {
            "text/plain": [
              "<All keys matched successfully>"
            ]
          },
          "metadata": {
            "tags": []
          },
          "execution_count": 75
        }
      ]
    },
    {
      "cell_type": "code",
      "metadata": {
        "id": "Jzkot4F900-Z",
        "colab_type": "code",
        "outputId": "d98926b5-8b6d-4cac-9dfc-083b57ab6b2f",
        "colab": {
          "base_uri": "https://localhost:8080/",
          "height": 153
        }
      },
      "source": [
        "options"
      ],
      "execution_count": 0,
      "outputs": [
        {
          "output_type": "execute_result",
          "data": {
            "text/plain": [
              "{'dropout': 0.3,\n",
              " 'embedding_dim': 512,\n",
              " 'hidden_size': 1024,\n",
              " 'input_size': 512,\n",
              " 'lr': 0.001,\n",
              " 'num_embeddings': 33178,\n",
              " 'num_layers': 3,\n",
              " 'padding_idx': 2}"
            ]
          },
          "metadata": {
            "tags": []
          },
          "execution_count": 76
        }
      ]
    },
    {
      "cell_type": "markdown",
      "metadata": {
        "id": "6xf-JR_nsy0n",
        "colab_type": "text"
      },
      "source": [
        "##### 2.3.1"
      ]
    },
    {
      "cell_type": "code",
      "metadata": {
        "id": "7lGANJ2mQ1zo",
        "colab_type": "code",
        "outputId": "52ddf2ad-4cf9-41f3-fb47-94cd1da0368d",
        "colab": {
          "base_uri": "https://localhost:8080/",
          "height": 156
        }
      },
      "source": [
        "import numpy as np\n",
        "\n",
        "def prepare(sentence):\n",
        "    res_x = []\n",
        "    res_y = []\n",
        "    for i, w in enumerate(sentence):\n",
        "        if i==0:\n",
        "            continue\n",
        "        x = sentence[:i]\n",
        "        y = w\n",
        "        res_x.append(np.array(x, dtype=np.int_))\n",
        "        res_y.append(y)\n",
        "    return np.array(res_x), np.array(res_y)\n",
        "\n",
        "def cal_loglikelihood(valid_data):\n",
        "    loglikelihood = 0\n",
        "    valid_x, valid_y = prepare(valid_data)\n",
        "    # print(valid_x))\n",
        "    for i, data_row in enumerate(valid_x):\n",
        "        # print('data_row:',data_row)\n",
        "        with torch.no_grad():\n",
        "            model.eval()\n",
        "            logits = model(torch.from_numpy(data_row).to('cuda').unsqueeze(0))\n",
        "            # print(logits.shape)\n",
        "            correct_y = valid_y[i]\n",
        "            # print('correct_y:',correct_y)\n",
        "            probabilities = torch.nn.functional.softmax(logits[0][-1]) #vocab对应的\n",
        "            # print(probabilities.shape)\n",
        "            loglikelihood += np.log(probabilities[correct_y].cpu().detach().numpy())\n",
        "            # print(loglikelihood)\n",
        "        # if i==0:\n",
        "        #     break\n",
        "    return loglikelihood\n",
        "\n",
        "res = []\n",
        "for i, valid_data in tqdm(enumerate(tokenized_datasets['valid'])):\n",
        "    # print(valid_data)\n",
        "    res.append((datasets['valid'][i],cal_loglikelihood(valid_data)))\n",
        "    if i % 2000 == 0:\n",
        "        print(i)  \n",
        "res = sorted(res,key=lambda x:x[1],reverse=True)"
      ],
      "execution_count": 0,
      "outputs": [
        {
          "output_type": "stream",
          "text": [
            "0it [00:00, ?it/s]/usr/local/lib/python3.6/dist-packages/ipykernel_launcher.py:27: UserWarning: Implicit dimension choice for softmax has been deprecated. Change the call to include dim=X as an argument.\n",
            "2it [00:00,  2.46it/s]"
          ],
          "name": "stderr"
        },
        {
          "output_type": "stream",
          "text": [
            "0\n"
          ],
          "name": "stdout"
        },
        {
          "output_type": "stream",
          "text": [
            "2002it [08:39,  4.29it/s]"
          ],
          "name": "stderr"
        },
        {
          "output_type": "stream",
          "text": [
            "2000\n"
          ],
          "name": "stdout"
        },
        {
          "output_type": "stream",
          "text": [
            "4001it [18:00,  3.78it/s]"
          ],
          "name": "stderr"
        },
        {
          "output_type": "stream",
          "text": [
            "4000\n"
          ],
          "name": "stdout"
        },
        {
          "output_type": "stream",
          "text": [
            "6001it [27:22,  4.43it/s]"
          ],
          "name": "stderr"
        },
        {
          "output_type": "stream",
          "text": [
            "6000\n"
          ],
          "name": "stdout"
        },
        {
          "output_type": "stream",
          "text": [
            "8001it [36:51,  3.03it/s]"
          ],
          "name": "stderr"
        },
        {
          "output_type": "stream",
          "text": [
            "8000\n"
          ],
          "name": "stdout"
        },
        {
          "output_type": "stream",
          "text": [
            "8464it [38:50,  5.35it/s]\n"
          ],
          "name": "stderr"
        }
      ]
    },
    {
      "cell_type": "code",
      "metadata": {
        "id": "826CRfgGTOoT",
        "colab_type": "code",
        "outputId": "be822e3d-a349-4380-8f74-76f7df308908",
        "colab": {
          "base_uri": "https://localhost:8080/",
          "height": 68
        }
      },
      "source": [
        "print('bos:',wiki_dict.get_id('<bos>'),'eos:',wiki_dict.get_id('<eos>'),'pad:',wiki_dict.get_id('<pad>'))\n",
        "print('=:',wiki_dict.get_id('='))\n",
        "print('@-@:', wiki_dict.get_id('@-@'))"
      ],
      "execution_count": 0,
      "outputs": [
        {
          "output_type": "stream",
          "text": [
            "bos: 0 eos: 1 pad: 2\n",
            "=: 1907\n",
            "@-@: 23\n"
          ],
          "name": "stdout"
        }
      ]
    },
    {
      "cell_type": "markdown",
      "metadata": {
        "id": "P4A70fbPDfsF",
        "colab_type": "text"
      },
      "source": [
        "#### II.3.2 Highest and Lowest scoring sequences"
      ]
    },
    {
      "cell_type": "code",
      "metadata": {
        "id": "ObPGc-y9IaqX",
        "colab_type": "code",
        "outputId": "5c1421fb-bc67-4277-d0e3-cc3e1081f6cf",
        "colab": {
          "base_uri": "https://localhost:8080/",
          "height": 187
        }
      },
      "source": [
        "for i in res[:10]:\n",
        "    print(i[1])"
      ],
      "execution_count": 0,
      "outputs": [
        {
          "output_type": "stream",
          "text": [
            "-15.417704246938229\n",
            "-16.557723343372345\n",
            "-19.037224277853966\n",
            "-21.969595208764076\n",
            "-24.21350160613656\n",
            "-24.42048878967762\n",
            "-24.813802510499954\n",
            "-25.596893843263388\n",
            "-26.17766149714589\n",
            "-26.198488762776833\n"
          ],
          "name": "stdout"
        }
      ]
    },
    {
      "cell_type": "code",
      "metadata": {
        "id": "HKVZeX7fDfsG",
        "colab_type": "code",
        "outputId": "b49f6e03-fb48-4423-e67c-3577e4fddf82",
        "colab": {
          "base_uri": "https://localhost:8080/",
          "height": 411
        }
      },
      "source": [
        "print('10 Highest scoring sequences:')\n",
        "for i in res[:10]:\n",
        "    print(' '.join(i[0]))\n",
        "print('--'*30)\n",
        "print('10 Lowest scoring sequences=:')\n",
        "for i in res[-10:-1]:\n",
        "    print(' '.join(i[0]))"
      ],
      "execution_count": 0,
      "outputs": [
        {
          "output_type": "stream",
          "text": [
            "10 Highest scoring sequences:\n",
            "= = Post @-@ war career = =\n",
            "= = Early life and education = =\n",
            "= = Post @-@ war period = =\n",
            "= = = Scientology sources = = =\n",
            "= = = Hit list = = =\n",
            "= = Culture and the arts = =\n",
            "= = Return to New Zealand = =\n",
            "= = = <unk> from the stage = = =\n",
            "= = = Army returns = = =\n",
            "It originally aired on NBC on April 14 , 2011 .\n",
            "------------------------------------------------------------\n",
            "10 Lowest scoring sequences=:\n",
            "On December 7 , 2007 , German federal and state interior ministers expressed the opinion that the Scientology organization was continuing to pursue anti @-@ constitutional goals , <unk> \" essential basic and human rights like the dignity of man or the right to equal treatment \" , and asked Germany 's domestic intelligence agencies to collect and evaluate the information required for a possible judicial inquiry aimed at banning the organization .\n",
            "Officials of the strictly amateur Rugby Football Union ( RFU ) had become increasingly concerned at the behaviour of the New Zealanders , regarding them as unsportsmanlike , and tensions reached a nadir in the aftermath of the England international , during which the RFU secretary George Rowland Hill , <unk> the game , awarded a number of controversial tries to England , prompting three of the <unk> to temporarily leave the field in protest ; England eventually won 7 – 0 .\n",
            "The Meridian Post Office with its interior done entirely of bronze and Verde marble is also noteworthy as a very fine example of the type of Post Office structures built in thriving and well to do cities in the 1920s and originally had <unk> lighting which was removed sadly during a 1960s <unk> and which are now in private residences on <unk> Springs Drive and in North Hills .\n",
            "It asserted that several rejection letters which the woman had submitted as part of her <unk> application – ostensibly from potential employers who were rejecting her because she was a Scientologist – had in fact been written by fellow Scientologists at her request and that of Scientology 's Office of Special Affairs , and that she was in personal financial trouble and about to go on trial for tax <unk> at the time she applied for <unk> .\n",
            "Erin Fox of TV Guide also liked \" The Same Old Story \" better than the pilot because she thought that it \" had really cool special effects , awesome Walter @-@ <unk> , and actual chemistry forming between Olivia and Peter \" , and \" we also got to <unk> more into the connections between Walter , Nina Sharp , Massive Dynamic and the government and the experiments they conducted before Walter was <unk> \" .\n",
            "> Zeitung , noted that <unk> <unk> , a German Christian theologian , director of the Hannah <unk> Institute for Research into <unk> in Dresden and recipient of an honorary doctorate from Lund University , Sweden , for his <unk> of religious freedom , had been pressured to <unk> publication of his scientific study of Scientology after having found himself the subject of widespread criticism in the German media for advocating a more tolerant attitude towards Scientology .\n",
            "Besides the <unk> anime and manga , <unk> is featured in seven of the featured films in the series : in the second film , he aids <unk> <unk> and <unk> <unk> in fighting against <unk> , a <unk> idealist seeking to rule the world with a power called <unk> ; in the fourth , <unk> appears in a brief sequence , fighting against a large group of stone soldiers ; in the fifth , <unk> is sent alongside <unk> and <unk> in search of the base of the Land of Sky , who plans to invade <unk>\n",
            "Two rival communist @-@ backed black nationalist groups initiated military campaigns to overthrow the government and introduce majority rule : the Chinese @-@ aligned Zimbabwe African National Union ( <unk> ) , mostly comprising <unk> , created the Zimbabwe African National Liberation Army ( ZANLA ) and adopted aspects of <unk> doctrine , while the <unk> @-@ dominated Zimbabwe African People 's Union ( <unk> ) , aligned with Soviet @-@ style <unk> – <unk> and the Warsaw Pact , mobilised the Zimbabwe People 's Revolutionary Army ( <unk> ) .\n",
            "The letter was conceived and paid for by Hollywood lawyer <unk> Fields , whose clients have included Tom Cruise and John <unk> , and was signed by 34 prominent figures in the U.S. entertainment industry , including the top executives of MGM , Warner Bros. , Paramount , Universal and Sony Pictures Entertainment as well as actors Dustin Hoffman and Goldie <unk> , director Oliver Stone , writers Mario <unk> and <unk> Vidal and talk @-@ show host Larry King .\n"
          ],
          "name": "stdout"
        }
      ]
    },
    {
      "cell_type": "markdown",
      "metadata": {
        "id": "ZdSjiqSuDfsI",
        "colab_type": "text"
      },
      "source": [
        "#### II.3.3 Modified sequences"
      ]
    },
    {
      "cell_type": "code",
      "metadata": {
        "id": "xEpCnTD6HZFv",
        "colab_type": "code",
        "outputId": "0ce5d53a-46f0-4836-f689-65d79c6be442",
        "colab": {
          "base_uri": "https://localhost:8080/",
          "height": 54
        }
      },
      "source": [
        "print(res[9][0])"
      ],
      "execution_count": 0,
      "outputs": [
        {
          "output_type": "stream",
          "text": [
            "['It', 'originally', 'aired', 'on', 'NBC', 'on', 'April', '14', ',', '2011', '.']\n"
          ],
          "name": "stdout"
        }
      ]
    },
    {
      "cell_type": "code",
      "metadata": {
        "id": "AIrTRqXIDfsJ",
        "colab_type": "code",
        "outputId": "de8bd6d2-afb8-432b-e62b-803f7768be22",
        "colab": {
          "base_uri": "https://localhost:8080/",
          "height": 190
        }
      },
      "source": [
        "sample = ['<bos>','It', 'originally', 'aired', 'on', 'NBC', 'on', 'April', '14', ',', '2011', '.','<eos>']\n",
        "\n",
        "higher_seq = ['<bos>','It', 'originally', 'aired', 'on', 'NBC','on', 'April', '19', ',', '2011', '.','<eos>']\n",
        "\n",
        "lower_seq = ['<bos>','It', 'originally', 'aired', 'on', 'BBC','on', 'April', '19', ',', '2011', '.','<eos>']\n",
        "print(f'original seq: {(sample)}, \\nlog likelihood: {cal_loglikelihood(wiki_dict.encode_token_seq(sample))}')\n",
        "print(f'\\nmodified seq: {higher_seq}, \\nlog likelihood: {cal_loglikelihood(wiki_dict.encode_token_seq(higher_seq))}')\n",
        "print(f'\\nmodified seq: {lower_seq}, \\nlog likelihood: {cal_loglikelihood(wiki_dict.encode_token_seq(lower_seq))}')"
      ],
      "execution_count": 0,
      "outputs": [
        {
          "output_type": "stream",
          "text": [
            "/usr/local/lib/python3.6/dist-packages/ipykernel_launcher.py:27: UserWarning: Implicit dimension choice for softmax has been deprecated. Change the call to include dim=X as an argument.\n"
          ],
          "name": "stderr"
        },
        {
          "output_type": "stream",
          "text": [
            "original seq: ['<bos>', 'It', 'originally', 'aired', 'on', 'NBC', 'on', 'April', '14', ',', '2011', '.', '<eos>'], \n",
            "log likelihood: -26.198488762776833\n",
            "\n",
            "modified seq: ['<bos>', 'It', 'originally', 'aired', 'on', 'NBC', 'on', 'April', '19', ',', '2011', '.', '<eos>'], \n",
            "log likelihood: -26.069971794029698\n",
            "\n",
            "modified seq: ['<bos>', 'It', 'originally', 'aired', 'on', 'BBC', 'on', 'April', '19', ',', '2011', '.', '<eos>'], \n",
            "log likelihood: -30.446250190376304\n"
          ],
          "name": "stdout"
        }
      ]
    },
    {
      "cell_type": "markdown",
      "metadata": {
        "id": "VdC8mh-8DfsL",
        "colab_type": "text"
      },
      "source": [
        "### II.4 Sampling"
      ]
    },
    {
      "cell_type": "code",
      "metadata": {
        "id": "muPOk7bpDfsL",
        "colab_type": "code",
        "outputId": "ef2c8e88-46bb-480d-84cf-7debe678cf15",
        "colab": {
          "base_uri": "https://localhost:8080/",
          "height": 241
        }
      },
      "source": [
        "def get_sample():\n",
        "    seq = np.array([0]) #only have <bos>\n",
        "    while seq[-1]!= 1: # <eos>:1\n",
        "        with torch.no_grad():\n",
        "            model.eval()\n",
        "            logits = model(torch.from_numpy(seq).to('cuda').unsqueeze(0))\n",
        "            probabilities = torch.nn.functional.softmax(logits[0][-1])\n",
        "            a = torch.multinomial(probabilities, 1, out=None).cpu()\n",
        "            seq = np.append(seq, a)\n",
        "    return seq\n",
        "\n",
        "samples_1000 = []\n",
        "for i in range(1000):\n",
        "    samp = sample()\n",
        "    # print(f'the {i}th sample sequence: {wiki_dict.decode_idx_seq(list(samp))}')\n",
        "    samples_1000.append(samp)\n",
        "    if i % 100 ==0:\n",
        "        print(i)"
      ],
      "execution_count": 0,
      "outputs": [
        {
          "output_type": "stream",
          "text": [
            "/usr/local/lib/python3.6/dist-packages/ipykernel_launcher.py:7: UserWarning: Implicit dimension choice for softmax has been deprecated. Change the call to include dim=X as an argument.\n",
            "  import sys\n"
          ],
          "name": "stderr"
        },
        {
          "output_type": "stream",
          "text": [
            "0\n",
            "100\n",
            "200\n",
            "300\n",
            "400\n",
            "500\n",
            "600\n",
            "700\n",
            "800\n",
            "900\n"
          ],
          "name": "stdout"
        }
      ]
    },
    {
      "cell_type": "markdown",
      "metadata": {
        "id": "4IN725uaDfsN",
        "colab_type": "text"
      },
      "source": [
        "#### II.4.3 Number of unique tokens and sequence length \n",
        "\n",
        "(1,000 samples vs. 1,000 randomly selected validation-set sequences)"
      ]
    },
    {
      "cell_type": "code",
      "metadata": {
        "id": "G3bzznPvDfsO",
        "colab_type": "code",
        "colab": {}
      },
      "source": [
        "from random import sample \n",
        "valid_1000 = sample(tokenized_datasets['valid'],1000)"
      ],
      "execution_count": 0,
      "outputs": []
    },
    {
      "cell_type": "code",
      "metadata": {
        "id": "Q5vD425bcCRO",
        "colab_type": "code",
        "outputId": "7fdb20d6-b2f3-4772-ff01-7bfb64e89609",
        "colab": {
          "base_uri": "https://localhost:8080/",
          "height": 102
        }
      },
      "source": [
        "def get_info(samples):\n",
        "    l = [item for sublist in samples for item in sublist]\n",
        "    uniques = set(l)\n",
        "    return len(uniques),len(l)\n",
        "num_unique,seq_len = get_info(samples_1000)\n",
        "print('In 1000 samples we generated from best LSTM:')\n",
        "print('number of unique tokens:',num_unique,'sequence length:',seq_len)\n",
        "print('---'*20)\n",
        "print('In 1000 randomly selected validation-set sequences:')\n",
        "num_unique,seq_len = get_info(valid_1000)\n",
        "print('number of unique tokens:',num_unique,'sequence length:',seq_len)"
      ],
      "execution_count": 0,
      "outputs": [
        {
          "output_type": "stream",
          "text": [
            "In 1000 samples we generated from best LSTM:\n",
            "number of unique tokens: 6043 sequence length: 25269\n",
            "------------------------------------------------------------\n",
            "In 1000 randomly selected validation-set sequences:\n",
            "number of unique tokens: 5094 sequence length: 25408\n"
          ],
          "name": "stdout"
        }
      ]
    },
    {
      "cell_type": "markdown",
      "metadata": {
        "id": "yYA_HRqXDfsQ",
        "colab_type": "text"
      },
      "source": [
        "#### II.4.4 Example Samples"
      ]
    },
    {
      "cell_type": "code",
      "metadata": {
        "id": "wiuLWtZXDfsQ",
        "colab_type": "code",
        "outputId": "aafd94ad-d5ad-4ecf-af06-a9955a3a732a",
        "colab": {
          "base_uri": "https://localhost:8080/",
          "height": 88
        }
      },
      "source": [
        "for i in samples_1000[:3]:\n",
        "    print(' '.join(wiki_dict.decode_idx_seq(list(i))))"
      ],
      "execution_count": 0,
      "outputs": [
        {
          "output_type": "stream",
          "text": [
            "<bos> It was only ranked in the centre of regulatory artist Nancy Robert Park , whom approached one person which eclipsed it . <eos>\n",
            "<bos> The more stage quickly considered about the victory of the start was not visited , as he been Eve for the starting and subsequently receives authenticity to excommunication relationships . <eos>\n",
            "<bos> The Twins increased to Ashley Faulkner , understanding a motion line on the 2002 network program . <eos>\n"
          ],
          "name": "stdout"
        }
      ]
    },
    {
      "cell_type": "markdown",
      "metadata": {
        "id": "YgBAXHwrm6aW",
        "colab_type": "text"
      },
      "source": [
        "- I can tell that these 3 sequences are model-generated rather than human-generated.\n",
        "- I don't think these samples stay on topic.\n",
        "- I think most of them are grammatically correct."
      ]
    }
  ]
}