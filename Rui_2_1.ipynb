{
  "nbformat": 4,
  "nbformat_minor": 0,
  "metadata": {
    "kernelspec": {
      "name": "python3",
      "display_name": "Python 3"
    },
    "language_info": {
      "codemirror_mode": {
        "name": "ipython",
        "version": 3
      },
      "file_extension": ".py",
      "mimetype": "text/x-python",
      "name": "python",
      "nbconvert_exporter": "python",
      "pygments_lexer": "ipython3",
      "version": "3.7.1"
    },
    "colab": {
      "name": "Rui_2.1.ipynb",
      "provenance": [],
      "collapsed_sections": [],
      "include_colab_link": true
    },
    "accelerator": "GPU"
  },
  "cells": [
    {
      "cell_type": "markdown",
      "metadata": {
        "id": "view-in-github",
        "colab_type": "text"
      },
      "source": [
        "<a href=\"https://colab.research.google.com/github/Rae-Jiang/DSGA1011_NLP/blob/master/Rui_2_1.ipynb\" target=\"_parent\"><img src=\"https://colab.research.google.com/assets/colab-badge.svg\" alt=\"Open In Colab\"/></a>"
      ]
    },
    {
      "cell_type": "markdown",
      "metadata": {
        "id": "OhzMpzQvDfq-",
        "colab_type": "text"
      },
      "source": [
        "# DS-GA 1011 Homework 2\n",
        "## N-Gram and Neural Language Modeling"
      ]
    },
    {
      "cell_type": "code",
      "metadata": {
        "id": "sxQfThHknDB4",
        "colab_type": "code",
        "colab": {
          "base_uri": "https://localhost:8080/",
          "height": 139
        },
        "outputId": "096e4180-5807-4082-e258-2d068c23620e"
      },
      "source": [
        "import sys\n",
        "\n",
        "try:\n",
        "    import jsonlines\n",
        "except ImportError:\n",
        "    print('Installing the package, RESTART THIS CELL')\n",
        "    !{sys.executable} -m pip install jsonlines\n",
        "  \n",
        "try:\n",
        "    from tqdm import tqdm\n",
        "except ImportError:\n",
        "    print('Installing the package, RESTART THIS CELL')\n",
        "    !{sys.executable} -m pip install tqdm"
      ],
      "execution_count": 1,
      "outputs": [
        {
          "output_type": "stream",
          "text": [
            "Installing the package, RESTART THIS CELL\n",
            "Collecting jsonlines\n",
            "  Downloading https://files.pythonhosted.org/packages/4f/9a/ab96291470e305504aa4b7a2e0ec132e930da89eb3ca7a82fbe03167c131/jsonlines-1.2.0-py2.py3-none-any.whl\n",
            "Requirement already satisfied: six in /usr/local/lib/python3.6/dist-packages (from jsonlines) (1.12.0)\n",
            "Installing collected packages: jsonlines\n",
            "Successfully installed jsonlines-1.2.0\n"
          ],
          "name": "stdout"
        }
      ]
    },
    {
      "cell_type": "code",
      "metadata": {
        "id": "ZsO4H9MIDfq_",
        "colab_type": "code",
        "colab": {}
      },
      "source": [
        "import os\n",
        "import json\n",
        "import jsonlines\n",
        "import numpy as np\n",
        "from tqdm import tqdm\n",
        "from collections import defaultdict"
      ],
      "execution_count": 0,
      "outputs": []
    },
    {
      "cell_type": "code",
      "metadata": {
        "id": "AYhzi9CC3yqJ",
        "colab_type": "code",
        "colab": {
          "base_uri": "https://localhost:8080/",
          "height": 122
        },
        "outputId": "0ba128b2-c07f-4699-a339-12954c22c380"
      },
      "source": [
        "from google.colab import drive\n",
        "drive.mount('/content/drive')\n",
        "basedir = '/content/drive/My Drive/1011 NLP/HW2/Playground_Rui'\n",
        "data_folder_path = os.path.join(basedir, 'data')\n",
        "model_folder_path = os.path.join(basedir, 'model')"
      ],
      "execution_count": 26,
      "outputs": [
        {
          "output_type": "stream",
          "text": [
            "Go to this URL in a browser: https://accounts.google.com/o/oauth2/auth?client_id=947318989803-6bn6qk8qdgf4n4g3pfee6491hc0brc4i.apps.googleusercontent.com&redirect_uri=urn%3Aietf%3Awg%3Aoauth%3A2.0%3Aoob&scope=email%20https%3A%2F%2Fwww.googleapis.com%2Fauth%2Fdocs.test%20https%3A%2F%2Fwww.googleapis.com%2Fauth%2Fdrive%20https%3A%2F%2Fwww.googleapis.com%2Fauth%2Fdrive.photos.readonly%20https%3A%2F%2Fwww.googleapis.com%2Fauth%2Fpeopleapi.readonly&response_type=code\n",
            "\n",
            "Enter your authorization code:\n",
            "··········\n",
            "Mounted at /content/drive\n"
          ],
          "name": "stdout"
        }
      ]
    },
    {
      "cell_type": "code",
      "metadata": {
        "id": "j73WKUf6DfrF",
        "colab_type": "code",
        "colab": {}
      },
      "source": [
        "def load_wikitext(filename='wikitext2-sentencized.json'):\n",
        "    if not os.path.exists(filename):\n",
        "        !wget \"https://nyu.box.com/shared/static/9kb7l7ci30hb6uahhbssjlq0kctr5ii4.json\" -O $filename\n",
        "    \n",
        "    datasets = json.load(open(filename, 'r'))\n",
        "    for name in datasets:\n",
        "        datasets[name] = [x.split() for x in datasets[name]]\n",
        "    vocab = list(set([t for ts in datasets['train'] for t in ts]))      \n",
        "    print(\"Vocab size: %d\" % (len(vocab)))\n",
        "    return datasets, vocab\n",
        "\n",
        "def perplexity(model, sequences):\n",
        "    n_total = 0\n",
        "    logp_total = 0\n",
        "    for sequence in sequences:\n",
        "        logp_total += model.sequence_logp(sequence)\n",
        "        n_total += len(sequence) + 1  \n",
        "    ppl = 2 ** (- (1.0 / n_total) * logp_total)  \n",
        "    return ppl"
      ],
      "execution_count": 0,
      "outputs": []
    },
    {
      "cell_type": "code",
      "metadata": {
        "id": "0Ayhuc3-DfrJ",
        "colab_type": "code",
        "outputId": "3de11a09-e701-4689-c13f-821441453c17",
        "colab": {
          "base_uri": "https://localhost:8080/",
          "height": 479
        }
      },
      "source": [
        "datasets, vocab = load_wikitext()\n",
        "\n",
        "# delta = 0.0005\n",
        "# for n in [2, 3, 4]:\n",
        "#     lm = NGramAdditive(n=n, delta=delta, vsize=len(vocab)+1)  # +1 is for <eos>\n",
        "#     lm.estimate(datasets['train'])\n",
        "\n",
        "#     print(\"Baseline (Additive smoothing, n=%d, delta=%.4f)) Train Perplexity: %.3f\" % (n, delta, perplexity(lm, datasets['train'])))\n",
        "#     print(\"Baseline (Additive smoothing, n=%d, delta=%.4f)) Valid Perplexity: %.3f\" % (n, delta, perplexity(lm, datasets['valid'])))"
      ],
      "execution_count": 5,
      "outputs": [
        {
          "output_type": "stream",
          "text": [
            "--2019-10-05 18:59:32--  https://nyu.box.com/shared/static/9kb7l7ci30hb6uahhbssjlq0kctr5ii4.json\n",
            "Resolving nyu.box.com (nyu.box.com)... 107.152.26.197, 107.152.27.197\n",
            "Connecting to nyu.box.com (nyu.box.com)|107.152.26.197|:443... connected.\n",
            "HTTP request sent, awaiting response... 301 Moved Permanently\n",
            "Location: /public/static/9kb7l7ci30hb6uahhbssjlq0kctr5ii4.json [following]\n",
            "--2019-10-05 18:59:32--  https://nyu.box.com/public/static/9kb7l7ci30hb6uahhbssjlq0kctr5ii4.json\n",
            "Reusing existing connection to nyu.box.com:443.\n",
            "HTTP request sent, awaiting response... 301 Moved Permanently\n",
            "Location: https://nyu.app.box.com/public/static/9kb7l7ci30hb6uahhbssjlq0kctr5ii4.json [following]\n",
            "--2019-10-05 18:59:33--  https://nyu.app.box.com/public/static/9kb7l7ci30hb6uahhbssjlq0kctr5ii4.json\n",
            "Resolving nyu.app.box.com (nyu.app.box.com)... 107.152.25.199, 107.152.24.199\n",
            "Connecting to nyu.app.box.com (nyu.app.box.com)|107.152.25.199|:443... connected.\n",
            "HTTP request sent, awaiting response... 302 Found\n",
            "Location: https://public.boxcloud.com/d/1/b1!Dmw9_9PxVMVUN2P6bCC12BwhXqVWfjn2OztdaD_-NVrPdCX-ar38KweHD4QQyMa3WiC42Qdb3RdWWSLdonPl6ukn-MJi9nvVgsl2WO2cx8pJmD6IOYpSc2iAXc4z34tEZkTnpHBqnEKIl21tRf-VysXqv8elVxY0kXxN5jdv2q-9MiMKLaIAXJy2rbPaaZX0GiDS5Ry5R_Gigr1ax11kyUrfJZxmvcgh-7nS3Kf72yBaQai35Yg64NbEsWpjdZ6AfducIzKphhKYhF7ekeOWD0CbYIKqYElkMIbKyK_QDr31DIxtMiu_uCbTH2zxO9FFPpXL6mMz1iSe-1xTWu6WfjN_Gnpsy8dlQVcba2O18baSERePz4U7lyP4GOKI-9K2LJpM28F_Ifx-gkHxFCiJv1oMIPac6u9RZsBYTFgg68LIY64CM9onwN5f5k3iH5fdsBmlanG0ft39bd0otqlo7p9Eat7p76f-FemCGhSzz9vZcZHAc_KGbI53oQ_VBJS5uD-DGnu6pcg_BzhTNOJLAWoDnmJdxWSQA-HcCHE-n5NkuHbzTJNFQuRsytwHND4b9S0fHWZVTcFknQ75XpCe2tTFCO0P6LSkuUDsUCby84y8dsC7kzbbtfiZd-7TA7tAU6TVwqIIy4umJmKjJeBobvCBfub8LMEPouaVndNLdsqZasUcXjwgSZRrQ1K9jnNAGQdVfoM-1oqa34oYKxODAMjiAK9xwoUoE6yY5e55nbX05NHMf3mkCJZrXvz6Nejg0IaiJPaJkGjIfl-Q_eCSARsp-0bs44W3lwm8iPtSaXrmbt7vA64mIgkRtHnBoi3Tq9QQbimbKofBi8_MJrSU9lYaQh_vT7OXr-kiUPrGuo8s9C5PzcchXClQsL_hArvAOLLj-wPd35OeumUNthj6Xzp3sAlK-c4IeYnkHfpaumqtEvYyRMBe7UGknXUfDyCyM-WaL9xwXN_YOu_XEk-bpKvzw1CgG7iKwlH0MibqdaZ2rIdytYB7wyVBDaQHPjiQ1L4L41BH26LrTJAfFJhPYVfSgeLK7aY0bx_OeTQRrnoF0K03ywMbabe1N8ANjS2wShd_UKUHwlxbF7oLicEPQ76VlD-gZa-IKmjLo5x1iJ0zFjvS7uWgOoIpiwa7z5jxMyGT2iBVU3sJoqifOliKllEg_9cAcLDmTSemORjQ_EOLrpPu9Y8bRPHnMhVxznbR385a3xjfIYZxCMcW1WuS8PBP4KaLxrTbTH1QFU3OQj9CDxHFZzGZ6ZDX6sIAJefOtwu4gSLC7jNuuS4urhsY6O-a7yDrLR_gCH6io1qUeWInUpTThxxuLajy5gFa2w2J1G-fYcxtu6wDgMRXqjVcoXsvZCbwn1tywmWfECZ-6vfbZOW1PA96Z3nennhFkQM0pG-L0B-B0DGf-g../download [following]\n",
            "--2019-10-05 18:59:33--  https://public.boxcloud.com/d/1/b1!Dmw9_9PxVMVUN2P6bCC12BwhXqVWfjn2OztdaD_-NVrPdCX-ar38KweHD4QQyMa3WiC42Qdb3RdWWSLdonPl6ukn-MJi9nvVgsl2WO2cx8pJmD6IOYpSc2iAXc4z34tEZkTnpHBqnEKIl21tRf-VysXqv8elVxY0kXxN5jdv2q-9MiMKLaIAXJy2rbPaaZX0GiDS5Ry5R_Gigr1ax11kyUrfJZxmvcgh-7nS3Kf72yBaQai35Yg64NbEsWpjdZ6AfducIzKphhKYhF7ekeOWD0CbYIKqYElkMIbKyK_QDr31DIxtMiu_uCbTH2zxO9FFPpXL6mMz1iSe-1xTWu6WfjN_Gnpsy8dlQVcba2O18baSERePz4U7lyP4GOKI-9K2LJpM28F_Ifx-gkHxFCiJv1oMIPac6u9RZsBYTFgg68LIY64CM9onwN5f5k3iH5fdsBmlanG0ft39bd0otqlo7p9Eat7p76f-FemCGhSzz9vZcZHAc_KGbI53oQ_VBJS5uD-DGnu6pcg_BzhTNOJLAWoDnmJdxWSQA-HcCHE-n5NkuHbzTJNFQuRsytwHND4b9S0fHWZVTcFknQ75XpCe2tTFCO0P6LSkuUDsUCby84y8dsC7kzbbtfiZd-7TA7tAU6TVwqIIy4umJmKjJeBobvCBfub8LMEPouaVndNLdsqZasUcXjwgSZRrQ1K9jnNAGQdVfoM-1oqa34oYKxODAMjiAK9xwoUoE6yY5e55nbX05NHMf3mkCJZrXvz6Nejg0IaiJPaJkGjIfl-Q_eCSARsp-0bs44W3lwm8iPtSaXrmbt7vA64mIgkRtHnBoi3Tq9QQbimbKofBi8_MJrSU9lYaQh_vT7OXr-kiUPrGuo8s9C5PzcchXClQsL_hArvAOLLj-wPd35OeumUNthj6Xzp3sAlK-c4IeYnkHfpaumqtEvYyRMBe7UGknXUfDyCyM-WaL9xwXN_YOu_XEk-bpKvzw1CgG7iKwlH0MibqdaZ2rIdytYB7wyVBDaQHPjiQ1L4L41BH26LrTJAfFJhPYVfSgeLK7aY0bx_OeTQRrnoF0K03ywMbabe1N8ANjS2wShd_UKUHwlxbF7oLicEPQ76VlD-gZa-IKmjLo5x1iJ0zFjvS7uWgOoIpiwa7z5jxMyGT2iBVU3sJoqifOliKllEg_9cAcLDmTSemORjQ_EOLrpPu9Y8bRPHnMhVxznbR385a3xjfIYZxCMcW1WuS8PBP4KaLxrTbTH1QFU3OQj9CDxHFZzGZ6ZDX6sIAJefOtwu4gSLC7jNuuS4urhsY6O-a7yDrLR_gCH6io1qUeWInUpTThxxuLajy5gFa2w2J1G-fYcxtu6wDgMRXqjVcoXsvZCbwn1tywmWfECZ-6vfbZOW1PA96Z3nennhFkQM0pG-L0B-B0DGf-g../download\n",
            "Resolving public.boxcloud.com (public.boxcloud.com)... 107.152.25.200\n",
            "Connecting to public.boxcloud.com (public.boxcloud.com)|107.152.25.200|:443... connected.\n",
            "HTTP request sent, awaiting response... 200 OK\n",
            "Length: 12714601 (12M) [application/octet-stream]\n",
            "Saving to: ‘wikitext2-sentencized.json’\n",
            "\n",
            "wikitext2-sentenciz 100%[===================>]  12.12M  25.2MB/s    in 0.5s    \n",
            "\n",
            "2019-10-05 18:59:34 (25.2 MB/s) - ‘wikitext2-sentencized.json’ saved [12714601/12714601]\n",
            "\n",
            "Vocab size: 33175\n"
          ],
          "name": "stdout"
        }
      ]
    },
    {
      "cell_type": "code",
      "metadata": {
        "id": "xGqIyTFmDfrM",
        "colab_type": "code",
        "outputId": "a6357b67-d503-4c8c-db72-496e7060aa73",
        "colab": {
          "base_uri": "https://localhost:8080/",
          "height": 34
        }
      },
      "source": [
        "datasets.keys()"
      ],
      "execution_count": 22,
      "outputs": [
        {
          "output_type": "execute_result",
          "data": {
            "text/plain": [
              "dict_keys(['train', 'valid', 'test'])"
            ]
          },
          "metadata": {
            "tags": []
          },
          "execution_count": 22
        }
      ]
    },
    {
      "cell_type": "markdown",
      "metadata": {
        "id": "5o_A_F1yDfrT",
        "colab_type": "text"
      },
      "source": [
        "## II. Neural Language Modeling with a Recurrent Neural Network"
      ]
    },
    {
      "cell_type": "markdown",
      "metadata": {
        "id": "7r9Q1aFyDfrW",
        "colab_type": "text"
      },
      "source": [
        "#### Utilities\n",
        "\n",
        "(Hint: you can adopt the `Dictionary`, dataset loading, and training code from the lab for use here)"
      ]
    },
    {
      "cell_type": "code",
      "metadata": {
        "id": "kmHuhyOeDfra",
        "colab_type": "code",
        "colab": {}
      },
      "source": [
        "#make dataset\n",
        "import torch\n",
        "import torch.nn as nn\n",
        "import torch.optim as optim\n",
        "from torch.utils.data import Dataset, RandomSampler, SequentialSampler, DataLoader\n",
        "\n",
        "class Dictionary(object):\n",
        "    def __init__(self, datasets, include_valid=False):\n",
        "        self.tokens = []\n",
        "        self.ids = {}\n",
        "        self.counts = {}\n",
        "        \n",
        "        # add special tokens\n",
        "        self.add_token('<bos>')\n",
        "        self.add_token('<eos>')\n",
        "        self.add_token('<pad>')\n",
        "        self.add_token('<unk>')\n",
        "        \n",
        "        for line in tqdm(datasets['train']):  #显示进度条Instantly make your loops show a smart progress meter - just wrap any iterable with tqdm(iterable)\n",
        "            for w in line:\n",
        "                self.add_token(w)\n",
        "                    \n",
        "        if include_valid is True:\n",
        "            for line in tqdm(datasets['valid']):\n",
        "                for w in line:\n",
        "                    self.add_token(w)\n",
        "                            \n",
        "    def add_token(self, w):\n",
        "        if w not in self.tokens:\n",
        "            self.tokens.append(w)\n",
        "            _w_id = len(self.tokens) - 1\n",
        "            self.ids[w] = _w_id\n",
        "            self.counts[w] = 1\n",
        "        else:\n",
        "            self.counts[w] += 1\n",
        "\n",
        "    def get_id(self, w):\n",
        "        return self.ids[w]\n",
        "    \n",
        "    def get_token(self, idx):\n",
        "        return self.tokens[idx]\n",
        "    \n",
        "    def decode_idx_seq(self, l):\n",
        "        return [self.tokens[i] for i in l]\n",
        "    \n",
        "    def encode_token_seq(self, l):\n",
        "        return [self.ids[i] if i in self.ids else self.ids['<unk>'] for i in l]\n",
        "    \n",
        "    def __len__(self):\n",
        "        return len(self.tokens)\n",
        "\n",
        "def tokenize_dataset(datasets, dictionary, ngram_order=2):\n",
        "    tokenized_datasets = {}\n",
        "    for split, dataset in datasets.items():\n",
        "        _current_dictified = []\n",
        "        for l in tqdm(dataset):\n",
        "            l = ['<bos>']*(ngram_order-1) + l + ['<eos>']\n",
        "            encoded_l = dictionary.encode_token_seq(l)\n",
        "            _current_dictified.append(encoded_l)\n",
        "        tokenized_datasets[split] = _current_dictified\n",
        "        \n",
        "    return tokenized_datasets\n",
        "\n",
        "class TensoredDataset(Dataset):\n",
        "    def __init__(self, list_of_lists_of_tokens):\n",
        "        self.input_tensors = []\n",
        "        self.target_tensors = []\n",
        "        \n",
        "        for sample in list_of_lists_of_tokens:\n",
        "            self.input_tensors.append(torch.tensor([sample[:-1]], dtype=torch.long))\n",
        "            self.target_tensors.append(torch.tensor([sample[1:]], dtype=torch.long))#从第二个词开始就是target，shifted version of sequence as  \n",
        "    \n",
        "    def __len__(self):\n",
        "        return len(self.input_tensors)\n",
        "    \n",
        "    def __getitem__(self, idx):\n",
        "        # return a (input, target) tuple\n",
        "        return (self.input_tensors[idx], self.target_tensors[idx])\n",
        "    \n",
        "def pad_list_of_tensors(list_of_tensors, pad_token):\n",
        "    max_length = max([t.size(-1) for t in list_of_tensors])\n",
        "    padded_list = []\n",
        "    \n",
        "    for t in list_of_tensors:\n",
        "        padded_tensor = torch.cat([t, torch.tensor([[pad_token]*(max_length - t.size(-1))], dtype=torch.long)], dim = -1)\n",
        "        padded_list.append(padded_tensor)\n",
        "        \n",
        "    padded_tensor = torch.cat(padded_list, dim=0)\n",
        "    \n",
        "    return padded_tensor\n",
        "\n",
        "def pad_collate_fn(batch):\n",
        "    # batch is a list of sample tuples\n",
        "    input_list = [s[0] for s in batch]\n",
        "    target_list = [s[1] for s in batch]\n",
        "    \n",
        "    pad_token = wiki_dict.get_id('<pad>') # pad_token = 2\n",
        "    \n",
        "    input_tensor = pad_list_of_tensors(input_list, pad_token)\n",
        "    target_tensor = pad_list_of_tensors(target_list, pad_token)\n",
        "    \n",
        "    return input_tensor, target_tensor"
      ],
      "execution_count": 0,
      "outputs": []
    },
    {
      "cell_type": "code",
      "metadata": {
        "id": "ceQhyp7tDfrc",
        "colab_type": "code",
        "outputId": "15392117-664c-4dab-ba27-e83a9e874150",
        "colab": {
          "base_uri": "https://localhost:8080/",
          "height": 275
        }
      },
      "source": [
        "wiki_dict = Dictionary(datasets,include_valid=True)\n",
        "# checking some example\n",
        "print(' '.join(datasets['train'][3010]))\n",
        "encoded = wiki_dict.encode_token_seq(datasets['train'][3010])\n",
        "print(f'\\n encoded - {encoded}')\n",
        "decoded = wiki_dict.decode_idx_seq(encoded)\n",
        "print(f'\\n decoded - {decoded}')\n",
        "\n",
        "tokenized_datasets = tokenize_dataset(datasets, wiki_dict)\n",
        "tensor_dataset = {}\n",
        "\n",
        "for split, listoflists in tokenized_datasets.items():\n",
        "    tensor_dataset[split] = TensoredDataset(listoflists)\n",
        "    \n",
        "# check the first example\n",
        "tensor_dataset['train'][0]"
      ],
      "execution_count": 7,
      "outputs": [
        {
          "output_type": "stream",
          "text": [
            "100%|██████████| 78274/78274 [02:11<00:00, 595.25it/s]\n",
            "100%|██████████| 8464/8464 [00:10<00:00, 835.94it/s]\n",
            " 18%|█▊        | 13943/78274 [00:00<00:00, 139427.14it/s]"
          ],
          "name": "stderr"
        },
        {
          "output_type": "stream",
          "text": [
            "The Nataraja and Ardhanarishvara sculptures are also attributed to the Rashtrakutas .\n",
            "\n",
            " encoded - [75, 8816, 30, 8817, 8732, 70, 91, 2960, 13, 6, 8806, 39]\n",
            "\n",
            " decoded - ['The', 'Nataraja', 'and', 'Ardhanarishvara', 'sculptures', 'are', 'also', 'attributed', 'to', 'the', 'Rashtrakutas', '.']\n"
          ],
          "name": "stdout"
        },
        {
          "output_type": "stream",
          "text": [
            "100%|██████████| 78274/78274 [00:00<00:00, 99513.94it/s]\n",
            "100%|██████████| 8464/8464 [00:00<00:00, 124796.86it/s]\n",
            "100%|██████████| 9708/9708 [00:00<00:00, 123327.88it/s]\n"
          ],
          "name": "stderr"
        },
        {
          "output_type": "execute_result",
          "data": {
            "text/plain": [
              "(tensor([[ 0,  4,  5,  6,  7,  8,  9, 10, 11, 12, 13, 14,  4, 15, 16, 17, 18, 10,\n",
              "          19, 20, 21, 22, 23, 24, 25, 26, 27, 28, 29, 30, 31]]),\n",
              " tensor([[ 4,  5,  6,  7,  8,  9, 10, 11, 12, 13, 14,  4, 15, 16, 17, 18, 10, 19,\n",
              "          20, 21, 22, 23, 24, 25, 26, 27, 28, 29, 30, 31,  1]]))"
            ]
          },
          "metadata": {
            "tags": []
          },
          "execution_count": 7
        }
      ]
    },
    {
      "cell_type": "code",
      "metadata": {
        "id": "V8Q_JFcWDfrf",
        "colab_type": "code",
        "colab": {}
      },
      "source": [
        "loaders = {}\n",
        "\n",
        "batch_size = 32\n",
        "\n",
        "for split, wiki_dataset in tensor_dataset.items():\n",
        "    loaders[split] = DataLoader(wiki_dataset, batch_size=batch_size, shuffle=True, collate_fn=pad_collate_fn)"
      ],
      "execution_count": 0,
      "outputs": []
    },
    {
      "cell_type": "markdown",
      "metadata": {
        "id": "FZfDCOxgDfrZ",
        "colab_type": "text"
      },
      "source": [
        "### II.1 LSTM and Hyper-Parameters"
      ]
    },
    {
      "cell_type": "markdown",
      "metadata": {
        "id": "7esYzeIQDfrh",
        "colab_type": "text"
      },
      "source": [
        "#### make model\n"
      ]
    },
    {
      "cell_type": "code",
      "metadata": {
        "id": "02hmRa9u9uBi",
        "colab_type": "code",
        "colab": {}
      },
      "source": [
        "# 1.RNN (Baseline)\n",
        "class RNN_LM(nn.Module):\n",
        "    \"\"\"\n",
        "    This model combines embedding, lstm and projection layer into a single model\n",
        "    \"\"\"\n",
        "    def __init__(self, options):\n",
        "        super().__init__()\n",
        "        \n",
        "        # create each LM part here \n",
        "        self.lookup = nn.Embedding(num_embeddings=options['num_embeddings'], embedding_dim=options['embedding_dim'], padding_idx=options['padding_idx'])\n",
        "        self.rnn = nn.RNN(options['input_size'], options['hidden_size'], options['num_layers'], dropout=options['dropout'], batch_first=True) #inputs,outputs\n",
        "        self.projection = nn.Linear(options['hidden_size'], options['num_embeddings'])\n",
        "        \n",
        "    def forward(self, encoded_input_sequence):\n",
        "        \"\"\"\n",
        "        Forward method process the input from token ids to logits\n",
        "        \"\"\"\n",
        "        embeddings = self.lookup(encoded_input_sequence)\n",
        "        rnn_output,hidden = self.rnn(embeddings) #return a tuple,out的last slice和hidden一样（因为out give you access to all hidden states in the sequence, hidden will allow you to continue the sequence and backpropagate)        \n",
        "        logits = self.projection(rnn_output)#why 0?rnn gives all outputs of all hiddens it has computed so far.\n",
        "\n",
        "        return logits"
      ],
      "execution_count": 0,
      "outputs": []
    },
    {
      "cell_type": "code",
      "metadata": {
        "id": "RL6g8qkWDfri",
        "colab_type": "code",
        "colab": {}
      },
      "source": [
        "# 2.LSTM\n",
        "class LSTM_LM(nn.Module):\n",
        "    \"\"\"\n",
        "    This model combines embedding, lstm and projection layer into a single model\n",
        "    \"\"\"\n",
        "    def __init__(self, options):\n",
        "        super().__init__()\n",
        "        \n",
        "        # create each LM part here \n",
        "        self.lookup = nn.Embedding(num_embeddings=options['num_embeddings'], embedding_dim=options['embedding_dim'], padding_idx=options['padding_idx'])\n",
        "        self.lstm = nn.LSTM(options['input_size'], options['hidden_size'], options['num_layers'], dropout=options['dropout'], batch_first=True) #inputs,outputs\n",
        "        self.projection = nn.Linear(options['hidden_size'], options['num_embeddings'])\n",
        "        \n",
        "    def forward(self, encoded_input_sequence):\n",
        "        \"\"\"\n",
        "        Forward method process the input from token ids to logits\n",
        "        \"\"\"\n",
        "        embeddings = self.lookup(encoded_input_sequence)\n",
        "        lstm_output,hidden = self.lstm(embeddings) #out的last slice和hidden一样（因为out give you access to all hidden states in the sequence, hidden will allow you to continue the sequence and backpropagate)\n",
        "        logits = self.projection(lstm_output)\n",
        "        \n",
        "        return logits"
      ],
      "execution_count": 0,
      "outputs": []
    },
    {
      "cell_type": "markdown",
      "metadata": {
        "id": "iJFaVPJmjlMS",
        "colab_type": "text"
      },
      "source": [
        "##### RNN"
      ]
    },
    {
      "cell_type": "code",
      "metadata": {
        "id": "9KUQspuhDfro",
        "colab_type": "code",
        "colab": {}
      },
      "source": [
        "# creating a model, criterion and optimizer\n",
        "#specify which model(RNN or LSTM) or if use a pretrained or not\n",
        "num_gpus = torch.cuda.device_count()\n",
        "if num_gpus > 0:\n",
        "    current_device = 'cuda'\n",
        "else:\n",
        "    current_device = 'cpu'\n",
        "assert current_device == 'cuda'\n",
        "\n",
        "load_pretrained = False\n",
        "model_type = 'rnn'\n",
        "\n",
        "if load_pretrained:\n",
        "    if model_type == 'lstm':\n",
        "        if not os.path.exists('wiki_lstm_lm.pt'):\n",
        "            raise EOFError('No model downloaded!')\n",
        "        model_dict = torch.load('wiki_lstm_lm.pt')\n",
        "\n",
        "        options = model_dict['options']\n",
        "        model = LSTM_LM(options).to(current_device)\n",
        "        model.load_state_dict(model_dict['model_dict'])\n",
        "        \n",
        "    if model_type =='rnn':\n",
        "        if not os.path.exists('wiki_rnn_lm.pt'):\n",
        "            raise EOFError('No model downloaded!')\n",
        "        model_dict = torch.load('wiki_rnn_lm.pt')\n",
        "\n",
        "        options = model_dict['options']\n",
        "        model = RNN_LM(options).to(current_device)\n",
        "        model.load_state_dict(model_dict['model_dict'])\n",
        "\n",
        "else:\n",
        "    embedding_dim = 64\n",
        "    hidden_size = 128\n",
        "    num_layers = 2\n",
        "    dropout = 0.1\n",
        "\n",
        "    options = {\n",
        "        'num_embeddings': len(wiki_dict),\n",
        "        'embedding_dim': embedding_dim,\n",
        "        'padding_idx': wiki_dict.get_id('<pad>'),\n",
        "        'input_size': embedding_dim,\n",
        "        'hidden_size': hidden_size,\n",
        "        'num_layers': num_layers,\n",
        "        'dropout': dropout,\n",
        "    }\n",
        "    if model_type == 'lstm':\n",
        "        model = LSTM_LM(options).to(current_device)\n",
        "    if model_type == 'rnn':\n",
        "        model = RNN_LM(options).to(current_device)\n",
        "\n",
        "criterion = nn.CrossEntropyLoss(ignore_index=wiki_dict.get_id('<pad>'),reduction='sum')\n",
        "model_parameters = [p for p in model.parameters() if p.requires_grad]\n",
        "optimizer = optim.Adam(model_parameters, lr=0.001)"
      ],
      "execution_count": 0,
      "outputs": []
    },
    {
      "cell_type": "code",
      "metadata": {
        "id": "jeB49BNTDfrq",
        "colab_type": "code",
        "outputId": "8740bbd4-05f4-48e9-b7bf-156d98f520f4",
        "colab": {
          "base_uri": "https://localhost:8080/",
          "height": 102
        }
      },
      "source": [
        "model"
      ],
      "execution_count": 21,
      "outputs": [
        {
          "output_type": "execute_result",
          "data": {
            "text/plain": [
              "RNN_LM(\n",
              "  (lookup): Embedding(33181, 64, padding_idx=2)\n",
              "  (rnn): RNN(64, 128, num_layers=2, batch_first=True, dropout=0.1)\n",
              "  (projection): Linear(in_features=128, out_features=33181, bias=True)\n",
              ")"
            ]
          },
          "metadata": {
            "tags": []
          },
          "execution_count": 21
        }
      ]
    },
    {
      "cell_type": "code",
      "metadata": {
        "colab_type": "code",
        "outputId": "7de25b97-9e70-4716-e7b0-ed1e61ee95d0",
        "id": "O0_s1CYkGgu8",
        "colab": {
          "base_uri": "https://localhost:8080/",
          "height": 1000
        }
      },
      "source": [
        "# now we make same training loop, now with dataset and the model\n",
        "\n",
        "plot_cache = []\n",
        "\n",
        "for epoch_number in range(10):\n",
        "    avg_loss=0\n",
        "    if not load_pretrained:\n",
        "        # do train\n",
        "        model.train()\n",
        "        \n",
        "        train_loss_cache = 0\n",
        "        train_non_pad_tokens_cache = 0\n",
        "        \n",
        "        for i, (inp, target) in enumerate(loaders['train']):\n",
        "            optimizer.zero_grad()\n",
        "            inp = inp.to(current_device)\n",
        "            target = target.to(current_device)\n",
        "            logits = model(inp)\n",
        "            \n",
        "            loss = criterion(logits.view(-1, logits.size(-1)), target.view(-1))\n",
        "            train_loss_cache += loss.item()  # still sum here\n",
        "            \n",
        "            ### HERE WE COMPUTE NUMBER OF NON_PAD TOKENS IN THE TARGET\n",
        "            non_pad_tokens = target.view(-1).ne(wiki_dict.get_id('<pad>')).sum().item()\n",
        "            \n",
        "            train_non_pad_tokens_cache += non_pad_tokens\n",
        "            \n",
        "            loss /= non_pad_tokens  # very important to normalize your current loss before you run .backward()\n",
        "            \n",
        "            loss.backward()\n",
        "            optimizer.step()\n",
        "                        \n",
        "            if i % 100 == 0:\n",
        "                avg_loss = train_loss_cache / train_non_pad_tokens_cache\n",
        "                print('Step {} avg train loss = {:.{prec}f}'.format(i, avg_loss, prec=4))\n",
        "            \n",
        "    #do valid\n",
        "\n",
        "    valid_loss_cache = 0\n",
        "    valid_non_pad_tokens_cache = 0\n",
        "    \n",
        "    model.eval()\n",
        "    with torch.no_grad():\n",
        "        for i, (inp, target) in enumerate(loaders['valid']):\n",
        "            inp = inp.to(current_device)\n",
        "            target = target.to(current_device)\n",
        "            logits = model(inp)\n",
        "\n",
        "            loss = criterion(logits.view(-1, logits.size(-1)), target.view(-1))\n",
        "            valid_loss_cache += loss.item()  # still sum here\n",
        "            \n",
        "            ### HERE WE COMPUTE NUMBER OF NON_PAD TOKENS IN THE TARGET\n",
        "            non_pad_tokens = target.view(-1).ne(wiki_dict.get_id('<pad>')).sum().item()\n",
        "            \n",
        "            valid_non_pad_tokens_cache += non_pad_tokens\n",
        "            \n",
        "        avg_val_loss = valid_loss_cache / valid_non_pad_tokens_cache\n",
        "            \n",
        "        print('Validation loss after {} epoch = {:.{prec}f}'.format(epoch_number, avg_val_loss, prec=4))\n",
        "        \n",
        "    plot_cache.append((avg_loss, avg_val_loss))\n",
        "\n",
        "    if load_pretrained:\n",
        "        break\n",
        "if model_type == 'lstm':\n",
        "    lstm_plot_cache = plot_cache\n",
        "if model_type == 'rnn':\n",
        "    rnn_plot_cache = plot_cache"
      ],
      "execution_count": 22,
      "outputs": [
        {
          "output_type": "stream",
          "text": [
            "Step 0 avg train loss = 10.4288\n",
            "Step 100 avg train loss = 7.7435\n",
            "Step 200 avg train loss = 7.3367\n",
            "Step 300 avg train loss = 7.1327\n",
            "Step 400 avg train loss = 7.0006\n",
            "Step 500 avg train loss = 6.8983\n",
            "Step 600 avg train loss = 6.8192\n",
            "Step 700 avg train loss = 6.7519\n",
            "Step 800 avg train loss = 6.6939\n",
            "Step 900 avg train loss = 6.6447\n",
            "Step 1000 avg train loss = 6.6010\n",
            "Step 1100 avg train loss = 6.5596\n",
            "Step 1200 avg train loss = 6.5238\n",
            "Step 1300 avg train loss = 6.4894\n",
            "Step 1400 avg train loss = 6.4585\n",
            "Step 1500 avg train loss = 6.4313\n",
            "Step 1600 avg train loss = 6.4043\n",
            "Step 1700 avg train loss = 6.3803\n",
            "Step 1800 avg train loss = 6.3568\n",
            "Step 1900 avg train loss = 6.3340\n",
            "Step 2000 avg train loss = 6.3138\n",
            "Step 2100 avg train loss = 6.2937\n",
            "Step 2200 avg train loss = 6.2757\n",
            "Step 2300 avg train loss = 6.2585\n",
            "Step 2400 avg train loss = 6.2411\n",
            "Validation loss after 0 epoch = 5.6907\n",
            "Step 0 avg train loss = 5.5617\n",
            "Step 100 avg train loss = 5.7252\n",
            "Step 200 avg train loss = 5.7123\n",
            "Step 300 avg train loss = 5.7101\n",
            "Step 400 avg train loss = 5.7114\n",
            "Step 500 avg train loss = 5.7071\n",
            "Step 600 avg train loss = 5.7050\n",
            "Step 700 avg train loss = 5.6985\n",
            "Step 800 avg train loss = 5.6952\n",
            "Step 900 avg train loss = 5.6936\n",
            "Step 1000 avg train loss = 5.6903\n",
            "Step 1100 avg train loss = 5.6854\n",
            "Step 1200 avg train loss = 5.6822\n",
            "Step 1300 avg train loss = 5.6798\n",
            "Step 1400 avg train loss = 5.6766\n",
            "Step 1500 avg train loss = 5.6743\n",
            "Step 1600 avg train loss = 5.6716\n",
            "Step 1700 avg train loss = 5.6666\n",
            "Step 1800 avg train loss = 5.6608\n",
            "Step 1900 avg train loss = 5.6568\n",
            "Step 2000 avg train loss = 5.6536\n",
            "Step 2100 avg train loss = 5.6490\n",
            "Step 2200 avg train loss = 5.6460\n",
            "Step 2300 avg train loss = 5.6430\n",
            "Step 2400 avg train loss = 5.6389\n",
            "Validation loss after 1 epoch = 5.5088\n",
            "Step 0 avg train loss = 5.2260\n",
            "Step 100 avg train loss = 5.3873\n",
            "Step 200 avg train loss = 5.3914\n",
            "Step 300 avg train loss = 5.3962\n",
            "Step 400 avg train loss = 5.3966\n",
            "Step 500 avg train loss = 5.4003\n",
            "Step 600 avg train loss = 5.4021\n",
            "Step 700 avg train loss = 5.4051\n",
            "Step 800 avg train loss = 5.4045\n",
            "Step 900 avg train loss = 5.4045\n",
            "Step 1000 avg train loss = 5.4032\n",
            "Step 1100 avg train loss = 5.4032\n",
            "Step 1200 avg train loss = 5.4018\n",
            "Step 1300 avg train loss = 5.4021\n",
            "Step 1400 avg train loss = 5.4038\n",
            "Step 1500 avg train loss = 5.4022\n",
            "Step 1600 avg train loss = 5.4029\n",
            "Step 1700 avg train loss = 5.4016\n",
            "Step 1800 avg train loss = 5.4017\n",
            "Step 1900 avg train loss = 5.4002\n",
            "Step 2000 avg train loss = 5.3986\n",
            "Step 2100 avg train loss = 5.3973\n",
            "Step 2200 avg train loss = 5.3964\n",
            "Step 2300 avg train loss = 5.3957\n",
            "Step 2400 avg train loss = 5.3955\n",
            "Validation loss after 2 epoch = 5.4235\n",
            "Step 0 avg train loss = 5.3070\n",
            "Step 100 avg train loss = 5.2171\n",
            "Step 200 avg train loss = 5.2107\n",
            "Step 300 avg train loss = 5.2153\n",
            "Step 400 avg train loss = 5.2164\n",
            "Step 500 avg train loss = 5.2230\n",
            "Step 600 avg train loss = 5.2229\n",
            "Step 700 avg train loss = 5.2198\n",
            "Step 800 avg train loss = 5.2236\n",
            "Step 900 avg train loss = 5.2222\n",
            "Step 1000 avg train loss = 5.2233\n",
            "Step 1100 avg train loss = 5.2246\n",
            "Step 1200 avg train loss = 5.2272\n",
            "Step 1300 avg train loss = 5.2286\n",
            "Step 1400 avg train loss = 5.2291\n",
            "Step 1500 avg train loss = 5.2299\n",
            "Step 1600 avg train loss = 5.2301\n",
            "Step 1700 avg train loss = 5.2307\n",
            "Step 1800 avg train loss = 5.2301\n",
            "Step 1900 avg train loss = 5.2310\n",
            "Step 2000 avg train loss = 5.2319\n",
            "Step 2100 avg train loss = 5.2329\n",
            "Step 2200 avg train loss = 5.2323\n",
            "Step 2300 avg train loss = 5.2326\n",
            "Step 2400 avg train loss = 5.2317\n",
            "Validation loss after 3 epoch = 5.3817\n",
            "Step 0 avg train loss = 5.1949\n",
            "Step 100 avg train loss = 5.0591\n",
            "Step 200 avg train loss = 5.0743\n",
            "Step 300 avg train loss = 5.0767\n",
            "Step 400 avg train loss = 5.0814\n",
            "Step 500 avg train loss = 5.0910\n",
            "Step 600 avg train loss = 5.0940\n",
            "Step 700 avg train loss = 5.0953\n",
            "Step 800 avg train loss = 5.0944\n",
            "Step 900 avg train loss = 5.0976\n",
            "Step 1000 avg train loss = 5.0988\n",
            "Step 1100 avg train loss = 5.1006\n",
            "Step 1200 avg train loss = 5.1016\n",
            "Step 1300 avg train loss = 5.1031\n",
            "Step 1400 avg train loss = 5.1051\n",
            "Step 1500 avg train loss = 5.1057\n",
            "Step 1600 avg train loss = 5.1070\n",
            "Step 1700 avg train loss = 5.1073\n",
            "Step 1800 avg train loss = 5.1089\n",
            "Step 1900 avg train loss = 5.1091\n",
            "Step 2000 avg train loss = 5.1096\n",
            "Step 2100 avg train loss = 5.1095\n",
            "Step 2200 avg train loss = 5.1116\n",
            "Step 2300 avg train loss = 5.1119\n",
            "Step 2400 avg train loss = 5.1124\n",
            "Validation loss after 4 epoch = 5.3536\n",
            "Step 0 avg train loss = 5.1118\n",
            "Step 100 avg train loss = 4.9606\n",
            "Step 200 avg train loss = 4.9744\n",
            "Step 300 avg train loss = 4.9781\n",
            "Step 400 avg train loss = 4.9826\n",
            "Step 500 avg train loss = 4.9829\n",
            "Step 600 avg train loss = 4.9834\n",
            "Step 700 avg train loss = 4.9875\n",
            "Step 800 avg train loss = 4.9902\n",
            "Step 900 avg train loss = 4.9921\n",
            "Step 1000 avg train loss = 4.9919\n",
            "Step 1100 avg train loss = 4.9930\n",
            "Step 1200 avg train loss = 4.9963\n",
            "Step 1300 avg train loss = 4.9989\n",
            "Step 1400 avg train loss = 5.0014\n",
            "Step 1500 avg train loss = 5.0027\n",
            "Step 1600 avg train loss = 5.0038\n",
            "Step 1700 avg train loss = 5.0055\n",
            "Step 1800 avg train loss = 5.0080\n",
            "Step 1900 avg train loss = 5.0096\n",
            "Step 2000 avg train loss = 5.0096\n",
            "Step 2100 avg train loss = 5.0115\n",
            "Step 2200 avg train loss = 5.0139\n",
            "Step 2300 avg train loss = 5.0151\n",
            "Step 2400 avg train loss = 5.0164\n",
            "Validation loss after 5 epoch = 5.3390\n",
            "Step 0 avg train loss = 4.6192\n",
            "Step 100 avg train loss = 4.8753\n",
            "Step 200 avg train loss = 4.8806\n",
            "Step 300 avg train loss = 4.8826\n",
            "Step 400 avg train loss = 4.8908\n",
            "Step 500 avg train loss = 4.8952\n",
            "Step 600 avg train loss = 4.8975\n",
            "Step 700 avg train loss = 4.9010\n",
            "Step 800 avg train loss = 4.9045\n",
            "Step 900 avg train loss = 4.9082\n",
            "Step 1000 avg train loss = 4.9084\n",
            "Step 1100 avg train loss = 4.9104\n",
            "Step 1200 avg train loss = 4.9135\n",
            "Step 1300 avg train loss = 4.9148\n",
            "Step 1400 avg train loss = 4.9185\n",
            "Step 1500 avg train loss = 4.9204\n",
            "Step 1600 avg train loss = 4.9213\n",
            "Step 1700 avg train loss = 4.9223\n",
            "Step 1800 avg train loss = 4.9232\n",
            "Step 1900 avg train loss = 4.9249\n",
            "Step 2000 avg train loss = 4.9271\n",
            "Step 2100 avg train loss = 4.9283\n",
            "Step 2200 avg train loss = 4.9304\n",
            "Step 2300 avg train loss = 4.9330\n",
            "Step 2400 avg train loss = 4.9356\n",
            "Validation loss after 6 epoch = 5.3320\n",
            "Step 0 avg train loss = 4.8354\n",
            "Step 100 avg train loss = 4.8200\n",
            "Step 200 avg train loss = 4.8152\n",
            "Step 300 avg train loss = 4.8197\n",
            "Step 400 avg train loss = 4.8274\n",
            "Step 500 avg train loss = 4.8300\n",
            "Step 600 avg train loss = 4.8343\n",
            "Step 700 avg train loss = 4.8388\n",
            "Step 800 avg train loss = 4.8408\n",
            "Step 900 avg train loss = 4.8410\n",
            "Step 1000 avg train loss = 4.8426\n",
            "Step 1100 avg train loss = 4.8463\n",
            "Step 1200 avg train loss = 4.8494\n",
            "Step 1300 avg train loss = 4.8520\n",
            "Step 1400 avg train loss = 4.8527\n",
            "Step 1500 avg train loss = 4.8524\n",
            "Step 1600 avg train loss = 4.8544\n",
            "Step 1700 avg train loss = 4.8562\n",
            "Step 1800 avg train loss = 4.8586\n",
            "Step 1900 avg train loss = 4.8610\n",
            "Step 2000 avg train loss = 4.8638\n",
            "Step 2100 avg train loss = 4.8646\n",
            "Step 2200 avg train loss = 4.8665\n",
            "Step 2300 avg train loss = 4.8682\n",
            "Step 2400 avg train loss = 4.8697\n",
            "Validation loss after 7 epoch = 5.3329\n",
            "Step 0 avg train loss = 4.6443\n",
            "Step 100 avg train loss = 4.7217\n",
            "Step 200 avg train loss = 4.7359\n",
            "Step 300 avg train loss = 4.7474\n",
            "Step 400 avg train loss = 4.7591\n",
            "Step 500 avg train loss = 4.7710\n",
            "Step 600 avg train loss = 4.7733\n",
            "Step 700 avg train loss = 4.7784\n",
            "Step 800 avg train loss = 4.7813\n",
            "Step 900 avg train loss = 4.7821\n",
            "Step 1000 avg train loss = 4.7849\n",
            "Step 1100 avg train loss = 4.7885\n",
            "Step 1200 avg train loss = 4.7902\n",
            "Step 1300 avg train loss = 4.7916\n",
            "Step 1400 avg train loss = 4.7948\n",
            "Step 1500 avg train loss = 4.7992\n",
            "Step 1600 avg train loss = 4.8019\n",
            "Step 1700 avg train loss = 4.8037\n",
            "Step 1800 avg train loss = 4.8067\n",
            "Step 1900 avg train loss = 4.8092\n",
            "Step 2000 avg train loss = 4.8105\n",
            "Step 2100 avg train loss = 4.8122\n",
            "Step 2200 avg train loss = 4.8144\n",
            "Step 2300 avg train loss = 4.8157\n",
            "Step 2400 avg train loss = 4.8172\n",
            "Validation loss after 8 epoch = 5.3305\n",
            "Step 0 avg train loss = 4.6659\n",
            "Step 100 avg train loss = 4.6676\n",
            "Step 200 avg train loss = 4.6970\n",
            "Step 300 avg train loss = 4.6956\n",
            "Step 400 avg train loss = 4.7083\n",
            "Step 500 avg train loss = 4.7159\n",
            "Step 600 avg train loss = 4.7188\n",
            "Step 700 avg train loss = 4.7210\n",
            "Step 800 avg train loss = 4.7234\n",
            "Step 900 avg train loss = 4.7267\n",
            "Step 1000 avg train loss = 4.7286\n",
            "Step 1100 avg train loss = 4.7333\n",
            "Step 1200 avg train loss = 4.7367\n",
            "Step 1300 avg train loss = 4.7387\n",
            "Step 1400 avg train loss = 4.7405\n",
            "Step 1500 avg train loss = 4.7435\n",
            "Step 1600 avg train loss = 4.7455\n",
            "Step 1700 avg train loss = 4.7470\n",
            "Step 1800 avg train loss = 4.7490\n",
            "Step 1900 avg train loss = 4.7509\n",
            "Step 2000 avg train loss = 4.7526\n",
            "Step 2100 avg train loss = 4.7555\n",
            "Step 2200 avg train loss = 4.7581\n",
            "Step 2300 avg train loss = 4.7608\n",
            "Step 2400 avg train loss = 4.7630\n",
            "Validation loss after 9 epoch = 5.3316\n"
          ],
          "name": "stdout"
        }
      ]
    },
    {
      "cell_type": "code",
      "metadata": {
        "id": "iBj_zAnoeQJh",
        "colab_type": "code",
        "colab": {}
      },
      "source": [
        "# saving the model, like pickle dump\n",
        "model_path = os.path.join(model_folder_path,'hw2_2.1.1_rnn_lm.pt')\n",
        "if not load_pretrained:\n",
        "    torch.save({\n",
        "        'options': options,\n",
        "        'loss_cache': plot_cache,\n",
        "        'model_dict': model.state_dict() #all params\n",
        "    }, model_path) #file name"
      ],
      "execution_count": 0,
      "outputs": []
    },
    {
      "cell_type": "markdown",
      "metadata": {
        "id": "ul-adwOIaTJ4",
        "colab_type": "text"
      },
      "source": [
        " ##### LSTM"
      ]
    },
    {
      "cell_type": "code",
      "metadata": {
        "id": "xYnnYJnmFnSV",
        "colab_type": "code",
        "colab": {}
      },
      "source": [
        "load_pretrained = False\n",
        "model_type = 'lstm'\n",
        "# creating a model, criterion and optimizer\n",
        "#specify which model(RNN or LSTM) or if use a pretrained or not\n",
        "num_gpus = torch.cuda.device_count()\n",
        "if num_gpus > 0:\n",
        "    current_device = 'cuda'\n",
        "else:\n",
        "    current_device = 'cpu'\n",
        "assert current_device == 'cuda'\n",
        "\n",
        "if load_pretrained:\n",
        "    if model_type == 'lstm':\n",
        "        if not os.path.exists('wiki_lstm_lm.pt'):\n",
        "            raise EOFError('No model downloaded!')\n",
        "        model_dict = torch.load('wiki_lstm_lm.pt')\n",
        "\n",
        "        options = model_dict['options']\n",
        "        model = LSTM_LM(options).to(current_device)\n",
        "        model.load_state_dict(model_dict['model_dict'])\n",
        "        \n",
        "    if model_type =='rnn':\n",
        "        if not os.path.exists('wiki_rnn_lm.pt'):\n",
        "            raise EOFError('No model downloaded!')\n",
        "        model_dict = torch.load('wiki_rnn_lm.pt')\n",
        "\n",
        "        options = model_dict['options']\n",
        "        model = RNN_LM(options).to(current_device)\n",
        "        model.load_state_dict(model_dict['model_dict'])\n",
        "\n",
        "else:\n",
        "    embedding_dim = 64\n",
        "    hidden_size = 128\n",
        "    num_layers = 2\n",
        "    dropout = 0.1\n",
        "\n",
        "    options = {\n",
        "        'num_embeddings': len(wiki_dict),\n",
        "        'embedding_dim': embedding_dim,\n",
        "        'padding_idx': wiki_dict.get_id('<pad>'),\n",
        "        'input_size': embedding_dim,\n",
        "        'hidden_size': hidden_size,\n",
        "        'num_layers': num_layers,\n",
        "        'dropout': dropout,\n",
        "    }\n",
        "    if model_type == 'lstm':\n",
        "        model = LSTM_LM(options).to(current_device)\n",
        "    if model_type == 'rnn':\n",
        "        model = RNN_LM(options).to(current_device)\n",
        "\n",
        "criterion = nn.CrossEntropyLoss(ignore_index=wiki_dict.get_id('<pad>'),reduction='sum')\n",
        "model_parameters = [p for p in model.parameters() if p.requires_grad]\n",
        "optimizer = optim.Adam(model_parameters, lr=0.001)"
      ],
      "execution_count": 0,
      "outputs": []
    },
    {
      "cell_type": "code",
      "metadata": {
        "id": "PmpVbKLVZ_vv",
        "colab_type": "code",
        "colab": {
          "base_uri": "https://localhost:8080/",
          "height": 102
        },
        "outputId": "67f619f4-571a-4f43-b809-6cc2e5551b01"
      },
      "source": [
        "model"
      ],
      "execution_count": 30,
      "outputs": [
        {
          "output_type": "execute_result",
          "data": {
            "text/plain": [
              "LSTM_LM(\n",
              "  (lookup): Embedding(33181, 64, padding_idx=2)\n",
              "  (lstm): LSTM(64, 128, num_layers=2, batch_first=True, dropout=0.1)\n",
              "  (projection): Linear(in_features=128, out_features=33181, bias=True)\n",
              ")"
            ]
          },
          "metadata": {
            "tags": []
          },
          "execution_count": 30
        }
      ]
    },
    {
      "cell_type": "code",
      "metadata": {
        "id": "Ma9bDa_caPdq",
        "colab_type": "code",
        "colab": {
          "base_uri": "https://localhost:8080/",
          "height": 935
        },
        "outputId": "51be537c-3e1a-428e-d574-ae10530a2e1b"
      },
      "source": [
        "# now we make same training loop, now with dataset and the model\n",
        "\n",
        "plot_cache = []\n",
        "\n",
        "for epoch_number in range(10):\n",
        "    avg_loss=0\n",
        "    if not load_pretrained:\n",
        "        # do train\n",
        "        model.train()\n",
        "        \n",
        "        train_loss_cache = 0\n",
        "        train_non_pad_tokens_cache = 0\n",
        "        \n",
        "        for i, (inp, target) in enumerate(loaders['train']):\n",
        "            optimizer.zero_grad()\n",
        "            inp = inp.to(current_device)\n",
        "            target = target.to(current_device)\n",
        "            logits = model(inp)\n",
        "            \n",
        "            loss = criterion(logits.view(-1, logits.size(-1)), target.view(-1))\n",
        "            train_loss_cache += loss.item()  # still sum here\n",
        "            \n",
        "            ### HERE WE COMPUTE NUMBER OF NON_PAD TOKENS IN THE TARGET\n",
        "            non_pad_tokens = target.view(-1).ne(wiki_dict.get_id('<pad>')).sum().item()\n",
        "            \n",
        "            train_non_pad_tokens_cache += non_pad_tokens\n",
        "            \n",
        "            loss /= non_pad_tokens  # very important to normalize your current loss before you run .backward()\n",
        "            \n",
        "            loss.backward()\n",
        "            optimizer.step()\n",
        "                        \n",
        "            if i % 100 == 0:\n",
        "                avg_loss = train_loss_cache / train_non_pad_tokens_cache\n",
        "                print('Step {} avg train loss = {:.{prec}f}'.format(i, avg_loss, prec=4))\n",
        "            \n",
        "    #do valid\n",
        "\n",
        "    valid_loss_cache = 0\n",
        "    valid_non_pad_tokens_cache = 0\n",
        "    \n",
        "    model.eval()\n",
        "    with torch.no_grad():\n",
        "        for i, (inp, target) in enumerate(loaders['valid']):\n",
        "            inp = inp.to(current_device)\n",
        "            target = target.to(current_device)\n",
        "            logits = model(inp)\n",
        "\n",
        "            loss = criterion(logits.view(-1, logits.size(-1)), target.view(-1))\n",
        "            valid_loss_cache += loss.item()  # still sum here\n",
        "            \n",
        "            ### HERE WE COMPUTE NUMBER OF NON_PAD TOKENS IN THE TARGET\n",
        "            non_pad_tokens = target.view(-1).ne(wiki_dict.get_id('<pad>')).sum().item()\n",
        "            \n",
        "            valid_non_pad_tokens_cache += non_pad_tokens\n",
        "            \n",
        "        avg_val_loss = valid_loss_cache / valid_non_pad_tokens_cache\n",
        "            \n",
        "        print('Validation loss after {} epoch = {:.{prec}f}'.format(epoch_number, avg_val_loss, prec=4))\n",
        "        \n",
        "    plot_cache.append((avg_loss, avg_val_loss))\n",
        "\n",
        "    if load_pretrained:\n",
        "        break\n",
        "if model_type == 'lstm':\n",
        "    lstm_plot_cache = plot_cache\n",
        "if model_type == 'rnn':\n",
        "    rnn_plot_cache = plot_cache"
      ],
      "execution_count": 0,
      "outputs": [
        {
          "output_type": "stream",
          "text": [
            "Step 0 avg train loss = 10.4115\n",
            "Step 100 avg train loss = 7.8970\n",
            "Step 200 avg train loss = 7.5331\n",
            "Step 300 avg train loss = 7.3797\n",
            "Step 400 avg train loss = 7.2787\n",
            "Step 500 avg train loss = 7.1952\n",
            "Step 600 avg train loss = 7.1188\n",
            "Step 700 avg train loss = 7.0548\n",
            "Step 800 avg train loss = 6.9977\n",
            "Step 900 avg train loss = 6.9464\n",
            "Step 1000 avg train loss = 6.9006\n",
            "Step 1100 avg train loss = 6.8604\n",
            "Step 1200 avg train loss = 6.8219\n",
            "Step 1300 avg train loss = 6.7868\n",
            "Step 1400 avg train loss = 6.7548\n",
            "Step 1500 avg train loss = 6.7245\n",
            "Step 1600 avg train loss = 6.6953\n",
            "Step 1700 avg train loss = 6.6677\n",
            "Step 1800 avg train loss = 6.6415\n",
            "Step 1900 avg train loss = 6.6173\n",
            "Step 2000 avg train loss = 6.5938\n",
            "Step 2100 avg train loss = 6.5720\n",
            "Step 2200 avg train loss = 6.5504\n",
            "Step 2300 avg train loss = 6.5297\n",
            "Step 2400 avg train loss = 6.5102\n",
            "Validation loss after 0 epoch = 5.8626\n",
            "Step 0 avg train loss = 6.0764\n",
            "Step 100 avg train loss = 5.9653\n",
            "Step 200 avg train loss = 5.9570\n",
            "Step 300 avg train loss = 5.9474\n",
            "Step 400 avg train loss = 5.9396\n",
            "Step 500 avg train loss = 5.9293\n",
            "Step 600 avg train loss = 5.9202\n",
            "Step 700 avg train loss = 5.9143\n",
            "Step 800 avg train loss = 5.9084\n",
            "Step 900 avg train loss = 5.9018\n",
            "Step 1000 avg train loss = 5.8988\n",
            "Step 1100 avg train loss = 5.8910\n",
            "Step 1200 avg train loss = 5.8852\n",
            "Step 1300 avg train loss = 5.8790\n",
            "Step 1400 avg train loss = 5.8721\n",
            "Step 1500 avg train loss = 5.8659\n",
            "Step 1600 avg train loss = 5.8605\n",
            "Step 1700 avg train loss = 5.8537\n",
            "Step 1800 avg train loss = 5.8479\n",
            "Step 1900 avg train loss = 5.8411\n",
            "Step 2000 avg train loss = 5.8342\n",
            "Step 2100 avg train loss = 5.8285\n",
            "Step 2200 avg train loss = 5.8221\n",
            "Step 2300 avg train loss = 5.8157\n",
            "Step 2400 avg train loss = 5.8095\n",
            "Validation loss after 1 epoch = 5.5706\n",
            "Step 0 avg train loss = 5.8510\n",
            "Step 100 avg train loss = 5.5757\n"
          ],
          "name": "stdout"
        }
      ]
    },
    {
      "cell_type": "code",
      "metadata": {
        "id": "gpC7irn10bEe",
        "colab_type": "code",
        "colab": {}
      },
      "source": [
        "# saving the model, like pickle dump\n",
        "model_path = os.path.join(model_folder_path,'hw2_2.1.1_lstm_lm.pt')\n",
        "if not load_pretrained:\n",
        "    torch.save({\n",
        "        'options': options,\n",
        "        'loss_cache': plot_cache,\n",
        "        'model_dict': model.state_dict() #all params\n",
        "    }, model_path) #file name"
      ],
      "execution_count": 0,
      "outputs": []
    },
    {
      "cell_type": "markdown",
      "metadata": {
        "id": "zb2JEbttDfrt",
        "colab_type": "text"
      },
      "source": [
        "#### Results (LSTM vs. Baseline)"
      ]
    },
    {
      "cell_type": "code",
      "metadata": {
        "id": "piSCUkz6Dfru",
        "colab_type": "code",
        "outputId": "a3e4e2db-d777-4e64-8ca1-8e0f05eecaa3",
        "colab": {
          "base_uri": "https://localhost:8080/",
          "height": 281
        }
      },
      "source": [
        "import matplotlib.pyplot as plt\n",
        "import numpy\n",
        "\n",
        "epochs = numpy.array(list(range(len(plot_cache))))\n",
        "plt.plot(epochs, [i[0] for i in lstm_plot_cache], label='LSTM Train loss')\n",
        "plt.plot(epochs, [i[1] for i in lstm_plot_cache], label='LSTM Valid loss')\n",
        "plt.plot(epochs, [i[0] for i in rnn_plot_cache], label='RNN Train loss')\n",
        "plt.plot(epochs, [i[1] for i in rnn_plot_cache], label='RNN Valid loss')\n",
        "\n",
        "plt.legend()\n",
        "plt.title('Loss curves of RNN/LSTM')\n",
        "plt.show()"
      ],
      "execution_count": 29,
      "outputs": [
        {
          "output_type": "display_data",
          "data": {
            "image/png": "[encoded data removed]",
            "text/plain": [
              "<Figure size 432x288 with 1 Axes>"
            ]
          },
          "metadata": {
            "tags": []
          }
        }
      ]
    },
    {
      "cell_type": "code",
      "metadata": {
        "id": "jRXt5DYN0OuM",
        "colab_type": "code",
        "outputId": "4d9665a7-c12c-4afb-9da6-6eb001464009",
        "colab": {
          "base_uri": "https://localhost:8080/",
          "height": 281
        }
      },
      "source": [
        "import matplotlib.pyplot as plt\n",
        "import numpy\n",
        "\n",
        "epochs = numpy.array(list(range(len(plot_cache))))\n",
        "plt.plot(epochs, [2**(i[0]/numpy.log(2)) for i in lstm_plot_cache], label='LSTM Train ppl')\n",
        "plt.plot(epochs, [2**(i[1]/numpy.log(2)) for i in lstm_plot_cache], label='LSTM Valid ppl')\n",
        "plt.plot(epochs, [2**(i[0]/numpy.log(2)) for i in rnn_plot_cache], label='RNN Train ppl')\n",
        "plt.plot(epochs, [2**(i[0]/numpy.log(2)) for i in rnn_plot_cache], label='RNN Train ppl')\n",
        "         \n",
        "plt.legend()\n",
        "plt.title('PPL curves of RNN/LSTM')\n",
        "plt.show()"
      ],
      "execution_count": 0,
      "outputs": [
        {
          "output_type": "display_data",
          "data": {
            "image/png": "[encoded data removed]",
            "text/plain": [
              "<Figure size 432x288 with 1 Axes>"
            ]
          },
          "metadata": {
            "tags": []
          }
        }
      ]
    },
    {
      "cell_type": "code",
      "metadata": {
        "id": "lyoTgq1L5XNB",
        "colab_type": "code",
        "outputId": "19d6e312-5364-423b-9534-15e14fd19a60",
        "colab": {
          "base_uri": "https://localhost:8080/",
          "height": 34
        }
      },
      "source": [
        "print('LSTM PPL:',2**(lstm_plot_cache[-1][1]/numpy.log(2)),'RNN PPL',2**(rnn_plot_cache[-1][1]/numpy.log(2)))"
      ],
      "execution_count": 0,
      "outputs": [
        {
          "output_type": "execute_result",
          "data": {
            "text/plain": [
              "192.74115137346396"
            ]
          },
          "metadata": {
            "tags": []
          },
          "execution_count": 17
        }
      ]
    },
    {
      "cell_type": "markdown",
      "metadata": {
        "id": "nCryReIvDfrx",
        "colab_type": "text"
      },
      "source": [
        "#### Performance Variation Based on Hyperparameter Values"
      ]
    },
    {
      "cell_type": "code",
      "metadata": {
        "id": "9zjxZThSDfry",
        "colab_type": "code",
        "colab": {}
      },
      "source": [
        ""
      ],
      "execution_count": 0,
      "outputs": []
    },
    {
      "cell_type": "markdown",
      "metadata": {
        "id": "4QsVFpSyDfr0",
        "colab_type": "text"
      },
      "source": [
        "### II.2 Learned Embeddings"
      ]
    },
    {
      "cell_type": "markdown",
      "metadata": {
        "id": "7BG-64bZDfr1",
        "colab_type": "text"
      },
      "source": [
        "#### Utilities\n",
        "\n",
        "Below is code to use [UMAP](https://umap-learn.readthedocs.io/en/latest/) to find a 2-dimensional representation of a weight matrix, and plot the resulting 2-dimensional points that correspond to certain words.\n",
        "\n",
        "Use `!pip install umap-learn` to install UMAP."
      ]
    },
    {
      "cell_type": "code",
      "metadata": {
        "id": "sRNFbTpbDfr1",
        "colab_type": "code",
        "outputId": "fffa715e-c30b-42b6-e99a-1e48f283ba74",
        "colab": {}
      },
      "source": [
        "%pylab inline \n",
        "import umap\n",
        "import matplotlib.pyplot as plt\n",
        "\n",
        "def umap_plot(weight_matrix, word_ids, words):\n",
        "    \"\"\"Run UMAP on the entire Vxd `weight_matrix` (e.g. model.lookup.weight or model.projection.weight),\n",
        "    And plot the points corresponding to the given `word_ids`. \"\"\"\n",
        "    reduced = umap.UMAP(min_dist=0.0001).fit_transform(weight_matrix.detach().cpu().numpy())\n",
        "    plt.figure(figsize=(20,20))\n",
        "\n",
        "    to_plot = reduced[word_ids, :]\n",
        "    plt.scatter(to_plot[:, 0], to_plot[:, 1])\n",
        "    for i, word_id in enumerate(word_ids):\n",
        "        current_point = to_plot[i]\n",
        "        plt.annotate(words[i], (current_point[0], current_point[1]))\n",
        "\n",
        "    plt.grid()\n",
        "    plt.show()"
      ],
      "execution_count": 0,
      "outputs": [
        {
          "output_type": "stream",
          "text": [
            "Populating the interactive namespace from numpy and matplotlib\n"
          ],
          "name": "stdout"
        }
      ]
    },
    {
      "cell_type": "code",
      "metadata": {
        "id": "j5pA6188Dfr4",
        "colab_type": "code",
        "outputId": "c0b05ed6-4daa-4a30-8d41-0c9da2627616",
        "colab": {}
      },
      "source": [
        "Vsize = 100                                 # e.g. len(dictionary)\n",
        "d = 32                                      # e.g. model.lookup.weight.size(1) \n",
        "fake_weight_matrix = torch.randn(Vsize, d)  # e.g. model.lookup.weight\n",
        "\n",
        "words = ['the', 'dog', 'ran']\n",
        "word_ids = [4, 54, 20]                  # e.g. use dictionary.get_id on a list of words\n",
        "\n",
        "umap_plot(fake_weight_matrix, word_ids, words)"
      ],
      "execution_count": 0,
      "outputs": [
        {
          "output_type": "display_data",
          "data": {
            "image/png": "[encoded data removed]",
            "text/plain": [
              "<Figure size 1440x1440 with 1 Axes>"
            ]
          },
          "metadata": {
            "tags": [],
            "needs_background": "light"
          }
        }
      ]
    },
    {
      "cell_type": "markdown",
      "metadata": {
        "id": "xy51Ty42Dfr6",
        "colab_type": "text"
      },
      "source": [
        "#### II.2.1 Word Similarity"
      ]
    },
    {
      "cell_type": "code",
      "metadata": {
        "id": "8Q27P_vADfr7",
        "colab_type": "code",
        "colab": {}
      },
      "source": [
        ""
      ],
      "execution_count": 0,
      "outputs": []
    },
    {
      "cell_type": "markdown",
      "metadata": {
        "id": "MK0vwMRODfr8",
        "colab_type": "text"
      },
      "source": [
        "#### II.2.2 Embedding Layer"
      ]
    },
    {
      "cell_type": "code",
      "metadata": {
        "id": "3D9sXOB-Dfr-",
        "colab_type": "code",
        "colab": {}
      },
      "source": [
        ""
      ],
      "execution_count": 0,
      "outputs": []
    },
    {
      "cell_type": "markdown",
      "metadata": {
        "id": "vdcmGhoGDfr_",
        "colab_type": "text"
      },
      "source": [
        "#### II.2.3 Projection Layer"
      ]
    },
    {
      "cell_type": "code",
      "metadata": {
        "id": "WdJ0N2ZLDfsA",
        "colab_type": "code",
        "colab": {}
      },
      "source": [
        ""
      ],
      "execution_count": 0,
      "outputs": []
    },
    {
      "cell_type": "markdown",
      "metadata": {
        "id": "C4CvOpFiDfsC",
        "colab_type": "text"
      },
      "source": [
        " "
      ]
    },
    {
      "cell_type": "markdown",
      "metadata": {
        "id": "OOkUcPUQDfsD",
        "colab_type": "text"
      },
      "source": [
        "### II.3 Scoring"
      ]
    },
    {
      "cell_type": "code",
      "metadata": {
        "id": "Zqqh9zOFDfsD",
        "colab_type": "code",
        "colab": {}
      },
      "source": [
        ""
      ],
      "execution_count": 0,
      "outputs": []
    },
    {
      "cell_type": "markdown",
      "metadata": {
        "id": "P4A70fbPDfsF",
        "colab_type": "text"
      },
      "source": [
        "#### II.3.2 Highest and Lowest scoring sequences"
      ]
    },
    {
      "cell_type": "code",
      "metadata": {
        "id": "HKVZeX7fDfsG",
        "colab_type": "code",
        "colab": {}
      },
      "source": [
        ""
      ],
      "execution_count": 0,
      "outputs": []
    },
    {
      "cell_type": "markdown",
      "metadata": {
        "id": "ZdSjiqSuDfsI",
        "colab_type": "text"
      },
      "source": [
        "#### II.3.3 Modified sequences"
      ]
    },
    {
      "cell_type": "code",
      "metadata": {
        "id": "AIrTRqXIDfsJ",
        "colab_type": "code",
        "colab": {}
      },
      "source": [
        ""
      ],
      "execution_count": 0,
      "outputs": []
    },
    {
      "cell_type": "markdown",
      "metadata": {
        "id": "VdC8mh-8DfsL",
        "colab_type": "text"
      },
      "source": [
        "### II.4 Sampling"
      ]
    },
    {
      "cell_type": "code",
      "metadata": {
        "id": "muPOk7bpDfsL",
        "colab_type": "code",
        "colab": {}
      },
      "source": [
        ""
      ],
      "execution_count": 0,
      "outputs": []
    },
    {
      "cell_type": "markdown",
      "metadata": {
        "id": "4IN725uaDfsN",
        "colab_type": "text"
      },
      "source": [
        "#### II.4.3 Number of unique tokens and sequence length \n",
        "\n",
        "(1,000 samples vs. 1,000 randomly selected validation-set sequences)"
      ]
    },
    {
      "cell_type": "code",
      "metadata": {
        "id": "G3bzznPvDfsO",
        "colab_type": "code",
        "colab": {}
      },
      "source": [
        ""
      ],
      "execution_count": 0,
      "outputs": []
    },
    {
      "cell_type": "markdown",
      "metadata": {
        "id": "yYA_HRqXDfsQ",
        "colab_type": "text"
      },
      "source": [
        "#### II.4.4 Example Samples"
      ]
    },
    {
      "cell_type": "code",
      "metadata": {
        "id": "wiuLWtZXDfsQ",
        "colab_type": "code",
        "colab": {}
      },
      "source": [
        ""
      ],
      "execution_count": 0,
      "outputs": []
    }
  ]
}